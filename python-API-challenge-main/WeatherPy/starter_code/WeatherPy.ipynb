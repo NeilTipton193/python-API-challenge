{
 "cells": [
  {
   "cell_type": "markdown",
   "metadata": {},
   "source": [
    "# WeatherPy\n",
    "----\n",
    "\n",
    "#### Note\n",
    "* Instructions have been included for each segment. You do not have to follow them exactly, but they are included to help you think through the steps."
   ]
  },
  {
   "cell_type": "code",
   "execution_count": 2,
   "metadata": {
    "scrolled": true
   },
   "outputs": [],
   "source": [
    "# Dependencies and Setup\n",
    "import matplotlib.pyplot as plt\n",
    "import pandas as pd\n",
    "import numpy as np\n",
    "import requests\n",
    "import time\n",
    "from ratelimit import limits\n",
    "from scipy.stats import linregress\n",
    "import random\n",
    "\n",
    "# Import API key\n",
    "from api_keys import weather_api_key\n",
    "\n",
    "# Incorporated citipy to determine city based on latitude and longitude\n",
    "from citipy import citipy\n",
    "\n",
    "# Output File (CSV)\n",
    "output_data_file = \"output_data/cities.csv\"\n",
    "\n",
    "# Range of latitudes and longitudes\n",
    "lat_range = (-90, 90)\n",
    "lng_range = (-180, 180)"
   ]
  },
  {
   "cell_type": "markdown",
   "metadata": {},
   "source": [
    "## Generate Cities List"
   ]
  },
  {
   "cell_type": "code",
   "execution_count": 3,
   "metadata": {},
   "outputs": [
    {
     "data": {
      "text/plain": [
       "612"
      ]
     },
     "execution_count": 3,
     "metadata": {},
     "output_type": "execute_result"
    }
   ],
   "source": [
    "# List for holding lat_lngs and cities\n",
    "lat_lngs = []\n",
    "cities = []\n",
    "\n",
    "# Create a set of random lat and lng combinations\n",
    "lats = np.random.uniform(lat_range[0], lat_range[1], size=1500)\n",
    "lngs = np.random.uniform(lng_range[0], lng_range[1], size=1500)\n",
    "lat_lngs = zip(lats, lngs)\n",
    "\n",
    "# Identify nearest city for each lat, lng combination\n",
    "for lat_lng in lat_lngs:\n",
    "    city = citipy.nearest_city(lat_lng[0], lat_lng[1]).city_name\n",
    "    \n",
    "    # If the city is unique, then add it to a our cities list\n",
    "    if city not in cities:\n",
    "        cities.append(city)\n",
    "\n",
    "# Print the city count to confirm sufficient count\n",
    "len(cities)"
   ]
  },
  {
   "cell_type": "markdown",
   "metadata": {},
   "source": [
    "### Perform API Calls\n",
    "* Perform a weather check on each city using a series of successive API calls.\n",
    "* Include a print log of each city as it'sbeing processed (with the city number and city name).\n",
    "\n",
    "> **HINT:** The OpenWeatherMap API only allows 60 calls per minute under their free plan. Try using `time.sleep(60)` after each set of 50 cities to avoid API errors due to large calls."
   ]
  },
  {
   "cell_type": "code",
   "execution_count": 4,
   "metadata": {
    "scrolled": true
   },
   "outputs": [
    {
     "name": "stdout",
     "output_type": "stream",
     "text": [
      "Retrieving data for city 1 in set 1. City: Ribeira Grande\n",
      "Retrieving data for city 2 in set 1. City: Ulaangom\n",
      "Retrieving data for city 3 in set 1. City: Saskylakh\n",
      "Retrieving data for city 4 in set 1. City: Jamestown\n",
      "Retrieving data for city 5 in set 1. City: Saint George\n",
      "Retrieving data for city 6 in set 1. City: Castro\n",
      "Retrieving data for city 7 in set 1. City: Vao\n",
      "Retrieving data for city 8 in set 1. City: Mongoumba\n",
      "Retrieving data for city 9 in set 1. City: Hermanus\n",
      "Retrieving data for city 10 in set 1. City: Evensk\n",
      "Retrieving data for city 11 in set 1. City: Ushuaia\n",
      "Retrieving data for city 12 in set 1. City: Palmer\n",
      "Retrieving data for city 13 in set 1. City: Bethel\n",
      "Missing data for this city, skipping to next\n",
      "Retrieving data for city 14 in set 1. City: Punta Arenas\n",
      "Retrieving data for city 15 in set 1. City: Hilo\n",
      "Retrieving data for city 16 in set 1. City: Boguchany\n",
      "Retrieving data for city 17 in set 1. City: Sarangani\n",
      "Retrieving data for city 18 in set 1. City: Mataura\n",
      "Retrieving data for city 19 in set 1. City: Wajir\n",
      "Missing data for this city, skipping to next\n",
      "Retrieving data for city 20 in set 1. City: Thompson\n",
      "Missing data for this city, skipping to next\n",
      "Retrieving data for city 21 in set 1. City: Rikitea\n",
      "Retrieving data for city 22 in set 1. City: Udachny\n",
      "Retrieving data for city 23 in set 1. City: Carutapera\n",
      "Retrieving data for city 24 in set 1. City: Hithadhoo\n",
      "Retrieving data for city 25 in set 1. City: Saint-Philippe\n",
      "Retrieving data for city 26 in set 1. City: Kavieng\n",
      "Retrieving data for city 27 in set 1. City: Lucapa\n",
      "Retrieving data for city 28 in set 1. City: Markova\n",
      "Retrieving data for city 29 in set 1. City: Esperance\n",
      "Retrieving data for city 30 in set 1. City: Kloulklubed\n",
      "Retrieving data for city 31 in set 1. City: Kapaa\n",
      "Retrieving data for city 32 in set 1. City: Ugoofaaru\n",
      "Retrieving data for city 33 in set 1. City: Nosy Varika\n",
      "Retrieving data for city 34 in set 1. City: Vaini\n",
      "Retrieving data for city 35 in set 1. City: Arraial do Cabo\n",
      "Retrieving data for city 36 in set 1. City: Naze\n",
      "Retrieving data for city 37 in set 1. City: Riyadh\n",
      "Retrieving data for city 38 in set 1. City: Katsuura\n",
      "Retrieving data for city 39 in set 1. City: Torbay\n",
      "Missing data for this city, skipping to next\n",
      "Retrieving data for city 40 in set 1. City: Biltine\n",
      "Missing data for this city, skipping to next\n",
      "Retrieving data for city 41 in set 1. City: Bambous Virieux\n",
      "Retrieving data for city 42 in set 1. City: Hede\n",
      "Retrieving data for city 43 in set 1. City: Busselton\n",
      "Retrieving data for city 44 in set 1. City: Tecpan\n",
      "Retrieving data for city 45 in set 1. City: Severo-Kuril'sk\n",
      "Retrieving data for city 46 in set 1. City: Albany\n",
      "Retrieving data for city 47 in set 1. City: Vestmannaeyjar\n",
      "Retrieving data for city 48 in set 1. City: Dikson\n",
      "Retrieving data for city 49 in set 1. City: Morón\n",
      "Missing data for this city, skipping to next\n",
      "Retrieving data for city 50 in set 1. City: Cape Town\n",
      "Retrieving data for city 1 in set 2. City: Pevek\n",
      "Retrieving data for city 2 in set 2. City: Yar-Sale\n",
      "Retrieving data for city 3 in set 2. City: Paramonga\n",
      "Retrieving data for city 4 in set 2. City: Pravdinskiy\n",
      "Retrieving data for city 5 in set 2. City: Nikolskoye\n",
      "Retrieving data for city 6 in set 2. City: Diamantino\n",
      "Missing data for this city, skipping to next\n",
      "Retrieving data for city 7 in set 2. City: Aripuanã\n",
      "Retrieving data for city 8 in set 2. City: Iqaluit\n",
      "Retrieving data for city 9 in set 2. City: Port Elizabeth\n",
      "Retrieving data for city 10 in set 2. City: Bariloche\n",
      "Retrieving data for city 11 in set 2. City: Butaritari\n",
      "Retrieving data for city 12 in set 2. City: Upernavik\n",
      "Retrieving data for city 13 in set 2. City: Airai\n",
      "Retrieving data for city 14 in set 2. City: Paita\n",
      "Retrieving data for city 15 in set 2. City: Grootfontein\n",
      "Retrieving data for city 16 in set 2. City: Puerto Ayora\n",
      "Retrieving data for city 17 in set 2. City: Atuona\n",
      "Retrieving data for city 18 in set 2. City: Hobart\n",
      "Retrieving data for city 19 in set 2. City: Kruisfontein\n",
      "Retrieving data for city 20 in set 2. City: Lorengau\n",
      "Retrieving data for city 21 in set 2. City: Tuktoyaktuk\n",
      "Retrieving data for city 22 in set 2. City: Chapais\n",
      "Retrieving data for city 23 in set 2. City: Bandarbeyla\n",
      "Retrieving data for city 24 in set 2. City: Ponta do Sol\n",
      "Retrieving data for city 25 in set 2. City: Antofagasta\n",
      "Retrieving data for city 26 in set 2. City: Qaanaaq\n",
      "Retrieving data for city 27 in set 2. City: Raudeberg\n",
      "Retrieving data for city 28 in set 2. City: Durant\n",
      "Retrieving data for city 29 in set 2. City: Togur\n",
      "Retrieving data for city 30 in set 2. City: Cachoeiras de Macacu\n",
      "Retrieving data for city 31 in set 2. City: Los Llanos de Aridane\n",
      "Retrieving data for city 32 in set 2. City: Caravelas\n",
      "Retrieving data for city 33 in set 2. City: Middletown\n",
      "Retrieving data for city 34 in set 2. City: Lagoa\n",
      "Retrieving data for city 35 in set 2. City: Lebu\n",
      "Retrieving data for city 36 in set 2. City: Zaysan\n",
      "Retrieving data for city 37 in set 2. City: Grindavik\n",
      "Retrieving data for city 38 in set 2. City: New Norfolk\n",
      "Retrieving data for city 39 in set 2. City: Noumea\n",
      "Retrieving data for city 40 in set 2. City: Yellowknife\n",
      "Retrieving data for city 41 in set 2. City: Ilulissat\n",
      "Missing data for this city, skipping to next\n",
      "Retrieving data for city 42 in set 2. City: Codrington\n",
      "Retrieving data for city 43 in set 2. City: Cidreira\n",
      "Retrieving data for city 44 in set 2. City: Ponta Delgada\n",
      "Retrieving data for city 45 in set 2. City: Norman Wells\n",
      "Retrieving data for city 46 in set 2. City: Bluff\n",
      "Missing data for this city, skipping to next\n",
      "Missing data for this city, skipping to next\n",
      "Retrieving data for city 47 in set 2. City: Thinadhoo\n",
      "Retrieving data for city 48 in set 2. City: Saint-Honoré\n",
      "Retrieving data for city 49 in set 2. City: Cockburn Town\n",
      "Retrieving data for city 50 in set 2. City: Beni Suef\n",
      "Retrieving data for city 1 in set 3. City: Saint-Augustin\n",
      "Retrieving data for city 2 in set 3. City: Chui\n",
      "Retrieving data for city 3 in set 3. City: Inta\n",
      "Retrieving data for city 4 in set 3. City: Omboué\n",
      "Missing data for this city, skipping to next\n",
      "Retrieving data for city 5 in set 3. City: Bredasdorp\n",
      "Retrieving data for city 6 in set 3. City: Teya\n",
      "Retrieving data for city 7 in set 3. City: Avarua\n",
      "Retrieving data for city 8 in set 3. City: Härnösand\n",
      "Retrieving data for city 9 in set 3. City: Hasaki\n",
      "Retrieving data for city 10 in set 3. City: Kwang Binh\n",
      "Retrieving data for city 11 in set 3. City: Saint Paul Harbor\n",
      "Retrieving data for city 12 in set 3. City: Marly\n",
      "Missing data for this city, skipping to next\n",
      "Retrieving data for city 13 in set 3. City: Aklavik\n",
      "Retrieving data for city 14 in set 3. City: Talnakh\n",
      "Retrieving data for city 15 in set 3. City: Vila Franca do Campo\n",
      "Retrieving data for city 16 in set 3. City: Geraldton\n",
      "Retrieving data for city 17 in set 3. City: Ōmamachō-ōmama\n",
      "Retrieving data for city 18 in set 3. City: Port-Gentil\n",
      "Retrieving data for city 19 in set 3. City: Batangafo\n",
      "Retrieving data for city 20 in set 3. City: Pacific Grove\n",
      "Retrieving data for city 21 in set 3. City: Carnarvon\n",
      "Retrieving data for city 22 in set 3. City: Hobyo\n",
      "Retrieving data for city 23 in set 3. City: Cabo San Lucas\n",
      "Retrieving data for city 24 in set 3. City: Sobolevo\n",
      "Missing data for this city, skipping to next\n",
      "Retrieving data for city 25 in set 3. City: Piaçabuçu\n",
      "Retrieving data for city 26 in set 3. City: Hecun\n",
      "Retrieving data for city 27 in set 3. City: Flinders\n",
      "Retrieving data for city 28 in set 3. City: Namatanai\n",
      "Retrieving data for city 29 in set 3. City: Diré\n",
      "Retrieving data for city 30 in set 3. City: Inongo\n",
      "Retrieving data for city 31 in set 3. City: Oistins\n",
      "Retrieving data for city 32 in set 3. City: Puerto Rondón\n",
      "Retrieving data for city 33 in set 3. City: Burns Lake\n",
      "Retrieving data for city 34 in set 3. City: Ancud\n",
      "Retrieving data for city 35 in set 3. City: San Patricio\n",
      "Retrieving data for city 36 in set 3. City: Sakakah\n",
      "Retrieving data for city 37 in set 3. City: Kaitangata\n",
      "Missing data for this city, skipping to next\n",
      "Retrieving data for city 38 in set 3. City: Pedersore\n",
      "Retrieving data for city 39 in set 3. City: Sault Ste. Marie\n",
      "Retrieving data for city 40 in set 3. City: Lapa\n",
      "Retrieving data for city 41 in set 3. City: Liverpool\n",
      "Retrieving data for city 42 in set 3. City: Swan River\n"
     ]
    },
    {
     "name": "stdout",
     "output_type": "stream",
     "text": [
      "Retrieving data for city 43 in set 3. City: Adrar\n",
      "Retrieving data for city 44 in set 3. City: Tasiilaq\n",
      "Retrieving data for city 45 in set 3. City: Malindi\n",
      "Retrieving data for city 46 in set 3. City: Pescia\n",
      "Retrieving data for city 47 in set 3. City: Pankovka\n",
      "Missing data for this city, skipping to next\n",
      "Missing data for this city, skipping to next\n",
      "Retrieving data for city 48 in set 3. City: Vostok\n",
      "Retrieving data for city 49 in set 3. City: Panacan\n",
      "Retrieving data for city 50 in set 3. City: Provideniya\n",
      "Missing data for this city, skipping to next\n",
      "Retrieving data for city 1 in set 4. City: Chute-aux-Outardes\n",
      "Retrieving data for city 2 in set 4. City: Fukuechō\n",
      "Retrieving data for city 3 in set 4. City: Rāvar\n",
      "Retrieving data for city 4 in set 4. City: Touros\n",
      "Retrieving data for city 5 in set 4. City: Bud\n",
      "Retrieving data for city 6 in set 4. City: Port Alfred\n",
      "Retrieving data for city 7 in set 4. City: Nishihara\n",
      "Retrieving data for city 8 in set 4. City: Taunsa\n",
      "Retrieving data for city 9 in set 4. City: Sobral\n",
      "Retrieving data for city 10 in set 4. City: Hīt\n",
      "Retrieving data for city 11 in set 4. City: Gīdolē\n",
      "Retrieving data for city 12 in set 4. City: La Ronge\n",
      "Retrieving data for city 13 in set 4. City: Khanbari\n",
      "Retrieving data for city 14 in set 4. City: Nago\n",
      "Retrieving data for city 15 in set 4. City: Nha Trang\n",
      "Retrieving data for city 16 in set 4. City: Ngunguru\n",
      "Retrieving data for city 17 in set 4. City: Kavaratti\n",
      "Retrieving data for city 18 in set 4. City: Vestmanna\n",
      "Retrieving data for city 19 in set 4. City: Lazo\n",
      "Retrieving data for city 20 in set 4. City: East London\n",
      "Retrieving data for city 21 in set 4. City: High Level\n",
      "Retrieving data for city 22 in set 4. City: Karlskrona\n",
      "Retrieving data for city 23 in set 4. City: Green River\n",
      "Retrieving data for city 24 in set 4. City: Chimoré\n",
      "Retrieving data for city 25 in set 4. City: Dingle\n",
      "Retrieving data for city 26 in set 4. City: Sørland\n",
      "Retrieving data for city 27 in set 4. City: Cadereyta\n",
      "Retrieving data for city 28 in set 4. City: Salta\n",
      "Retrieving data for city 29 in set 4. City: Saint-Leu\n",
      "Retrieving data for city 30 in set 4. City: Araouane\n",
      "Retrieving data for city 31 in set 4. City: Soyo\n",
      "Retrieving data for city 32 in set 4. City: Caucayá\n",
      "Retrieving data for city 33 in set 4. City: Cortes\n",
      "Retrieving data for city 34 in set 4. City: Lüderitz\n",
      "Retrieving data for city 35 in set 4. City: Mandalī\n",
      "Retrieving data for city 36 in set 4. City: Hondomachi-hondo\n",
      "Retrieving data for city 37 in set 4. City: Faya\n",
      "Retrieving data for city 38 in set 4. City: Yulara\n",
      "Retrieving data for city 39 in set 4. City: Pasni\n",
      "Retrieving data for city 40 in set 4. City: Mezen'\n",
      "Retrieving data for city 41 in set 4. City: Terrace\n",
      "Retrieving data for city 42 in set 4. City: Shelburne\n",
      "Missing data for this city, skipping to next\n",
      "Retrieving data for city 43 in set 4. City: Marawi\n",
      "Retrieving data for city 44 in set 4. City: Puerto El Triunfo\n",
      "Retrieving data for city 45 in set 4. City: George Town\n",
      "Missing data for this city, skipping to next\n",
      "Retrieving data for city 46 in set 4. City: Saint Anthony\n",
      "Retrieving data for city 47 in set 4. City: Tartagal\n",
      "Retrieving data for city 48 in set 4. City: Sioux Lookout\n",
      "Missing data for this city, skipping to next\n",
      "Retrieving data for city 49 in set 4. City: Winnemucca\n",
      "Retrieving data for city 50 in set 4. City: Laguna\n",
      "Retrieving data for city 1 in set 5. City: Mayya\n",
      "Missing data for this city, skipping to next\n",
      "Retrieving data for city 2 in set 5. City: Labuhan\n",
      "Retrieving data for city 3 in set 5. City: Tulsa\n",
      "Retrieving data for city 4 in set 5. City: Grand Gaube\n",
      "Retrieving data for city 5 in set 5. City: Kumul\n",
      "Retrieving data for city 6 in set 5. City: Mar del Plata\n",
      "Retrieving data for city 7 in set 5. City: Vallenar\n",
      "Retrieving data for city 8 in set 5. City: Koumac\n",
      "Retrieving data for city 9 in set 5. City: Bodø\n",
      "Retrieving data for city 10 in set 5. City: San Quintín\n",
      "Retrieving data for city 11 in set 5. City: Ahipara\n",
      "Retrieving data for city 12 in set 5. City: Port Moresby\n",
      "Missing data for this city, skipping to next\n",
      "Retrieving data for city 13 in set 5. City: Bentiu\n",
      "Retrieving data for city 14 in set 5. City: Mossamedes\n",
      "Retrieving data for city 15 in set 5. City: Srednekolymsk\n",
      "Retrieving data for city 16 in set 5. City: Takoradze\n",
      "Missing data for this city, skipping to next\n",
      "Retrieving data for city 17 in set 5. City: Havøysund\n",
      "Retrieving data for city 18 in set 5. City: Westport\n",
      "Retrieving data for city 19 in set 5. City: Lavrentiya\n",
      "Retrieving data for city 20 in set 5. City: Broome\n",
      "Retrieving data for city 21 in set 5. City: Kiryat Gat\n",
      "Retrieving data for city 22 in set 5. City: Ankpa\n",
      "Retrieving data for city 23 in set 5. City: Barrow\n",
      "Retrieving data for city 24 in set 5. City: Haines Junction\n",
      "Retrieving data for city 25 in set 5. City: Nānpāra\n",
      "Retrieving data for city 26 in set 5. City: Quelimane\n",
      "Retrieving data for city 27 in set 5. City: Bolgar\n",
      "Retrieving data for city 28 in set 5. City: Longyearbyen\n",
      "Retrieving data for city 29 in set 5. City: Botucatu\n",
      "Retrieving data for city 30 in set 5. City: Fortuna\n",
      "Retrieving data for city 31 in set 5. City: Nikki\n",
      "Retrieving data for city 32 in set 5. City: Ixtapa\n",
      "Retrieving data for city 33 in set 5. City: Mangalore\n",
      "Retrieving data for city 34 in set 5. City: Sucúa\n",
      "Retrieving data for city 35 in set 5. City: Tuatapere\n",
      "Retrieving data for city 36 in set 5. City: Leningradskiy\n",
      "Retrieving data for city 37 in set 5. City: Henties Bay\n",
      "Retrieving data for city 38 in set 5. City: Verkh-Chebula\n",
      "Retrieving data for city 39 in set 5. City: Ipatovo\n",
      "Retrieving data for city 40 in set 5. City: Nome\n",
      "Retrieving data for city 41 in set 5. City: Zhigansk\n",
      "Retrieving data for city 42 in set 5. City: Gouré\n",
      "Retrieving data for city 43 in set 5. City: Pochutla\n",
      "Retrieving data for city 44 in set 5. City: Paamiut\n",
      "Retrieving data for city 45 in set 5. City: Fort Nelson\n",
      "Retrieving data for city 46 in set 5. City: Gizo Government Station\n",
      "Retrieving data for city 47 in set 5. City: Maceió\n",
      "Retrieving data for city 48 in set 5. City: Monthey\n",
      "Retrieving data for city 49 in set 5. City: Faanui\n",
      "Retrieving data for city 50 in set 5. City: Otwock\n",
      "Retrieving data for city 1 in set 6. City: Khovd\n",
      "Retrieving data for city 2 in set 6. City: Chernyshevskiy\n",
      "Retrieving data for city 3 in set 6. City: Gamba\n",
      "Retrieving data for city 4 in set 6. City: Guerrero Negro\n",
      "Missing data for this city, skipping to next\n",
      "Retrieving data for city 5 in set 6. City: Dzaoudzi\n",
      "Retrieving data for city 6 in set 6. City: Gorin\n",
      "Retrieving data for city 7 in set 6. City: Corn Island\n",
      "Retrieving data for city 8 in set 6. City: Alpinópolis\n",
      "Retrieving data for city 9 in set 6. City: Tiksi\n",
      "Retrieving data for city 10 in set 6. City: Comodoro Rivadavia\n",
      "Retrieving data for city 11 in set 6. City: Samarai\n",
      "Retrieving data for city 12 in set 6. City: Merauke\n",
      "Retrieving data for city 13 in set 6. City: Kānt\n",
      "Retrieving data for city 14 in set 6. City: Margate\n",
      "Retrieving data for city 15 in set 6. City: Moyale\n",
      "Retrieving data for city 16 in set 6. City: Alofi\n",
      "Retrieving data for city 17 in set 6. City: Lindås\n",
      "Retrieving data for city 18 in set 6. City: Rawson\n",
      "Retrieving data for city 19 in set 6. City: Barra de Tecoanapa\n",
      "Retrieving data for city 20 in set 6. City: Chokurdakh\n",
      "Retrieving data for city 21 in set 6. City: Pandharpur\n",
      "Retrieving data for city 22 in set 6. City: Salalah\n",
      "Retrieving data for city 23 in set 6. City: Kulhudhuffushi\n",
      "Missing data for this city, skipping to next\n",
      "Retrieving data for city 24 in set 6. City: Cayenne\n",
      "Retrieving data for city 25 in set 6. City: São Miguel do Araguaia\n",
      "Missing data for this city, skipping to next\n",
      "Retrieving data for city 26 in set 6. City: Gornyy\n",
      "Retrieving data for city 27 in set 6. City: Dunedin\n",
      "Retrieving data for city 28 in set 6. City: Khatanga\n",
      "Retrieving data for city 29 in set 6. City: Hong Kong\n",
      "Missing data for this city, skipping to next\n",
      "Retrieving data for city 30 in set 6. City: Port Said\n",
      "Retrieving data for city 31 in set 6. City: Valparaíso\n",
      "Missing data for this city, skipping to next\n",
      "Retrieving data for city 32 in set 6. City: Nanortalik\n",
      "Retrieving data for city 33 in set 6. City: Castle Rock\n",
      "Retrieving data for city 34 in set 6. City: Lata\n",
      "Retrieving data for city 35 in set 6. City: Husavik\n"
     ]
    },
    {
     "name": "stdout",
     "output_type": "stream",
     "text": [
      "Retrieving data for city 36 in set 6. City: Barcelos\n",
      "Retrieving data for city 37 in set 6. City: Bengkulu\n",
      "Missing data for this city, skipping to next\n",
      "Retrieving data for city 38 in set 6. City: Acapulco de Juárez\n",
      "Retrieving data for city 39 in set 6. City: Iquique\n",
      "Retrieving data for city 40 in set 6. City: Maniitsoq\n",
      "Retrieving data for city 41 in set 6. City: Charters Towers\n",
      "Retrieving data for city 42 in set 6. City: Béboto\n",
      "Retrieving data for city 43 in set 6. City: Kyzyl-Suu\n",
      "Retrieving data for city 44 in set 6. City: Yeppoon\n",
      "Retrieving data for city 45 in set 6. City: Pandan\n",
      "Retrieving data for city 46 in set 6. City: Otane\n",
      "Retrieving data for city 47 in set 6. City: Monrovia\n",
      "Retrieving data for city 48 in set 6. City: Tautira\n",
      "Retrieving data for city 49 in set 6. City: Qaqortoq\n",
      "Retrieving data for city 50 in set 6. City: Vytegra\n",
      "Retrieving data for city 1 in set 7. City: Chegdomyn\n",
      "Retrieving data for city 2 in set 7. City: Kamaishi\n",
      "Retrieving data for city 3 in set 7. City: Port Lincoln\n",
      "Missing data for this city, skipping to next\n",
      "Retrieving data for city 4 in set 7. City: Oruzgan\n",
      "Retrieving data for city 5 in set 7. City: Balyqshy\n",
      "Retrieving data for city 6 in set 7. City: Alice Springs\n",
      "Retrieving data for city 7 in set 7. City: Nehe\n",
      "Retrieving data for city 8 in set 7. City: Çubuk\n",
      "Retrieving data for city 9 in set 7. City: Port Hedland\n",
      "Retrieving data for city 10 in set 7. City: Rundu\n",
      "Retrieving data for city 11 in set 7. City: Tepusteca\n",
      "Retrieving data for city 12 in set 7. City: Lázaro Cárdenas\n",
      "Retrieving data for city 13 in set 7. City: Vilyaka\n",
      "Retrieving data for city 14 in set 7. City: Tefé\n",
      "Retrieving data for city 15 in set 7. City: Hānsi\n",
      "Retrieving data for city 16 in set 7. City: Laas\n",
      "Retrieving data for city 17 in set 7. City: Caála\n",
      "Retrieving data for city 18 in set 7. City: Comarapa\n",
      "Retrieving data for city 19 in set 7. City: Sungai Raya\n",
      "Retrieving data for city 20 in set 7. City: Kahului\n",
      "Retrieving data for city 21 in set 7. City: Ketchikan\n",
      "Retrieving data for city 22 in set 7. City: Purranque\n",
      "Retrieving data for city 23 in set 7. City: Iracoubo\n",
      "Retrieving data for city 24 in set 7. City: Betūl\n",
      "Retrieving data for city 25 in set 7. City: La Tuque\n",
      "Missing data for this city, skipping to next\n",
      "Retrieving data for city 26 in set 7. City: Granadilla de Abona\n",
      "Retrieving data for city 27 in set 7. City: Namtsy\n",
      "Retrieving data for city 28 in set 7. City: Sabang\n",
      "Retrieving data for city 29 in set 7. City: Medina\n",
      "Retrieving data for city 30 in set 7. City: Province of Mantua\n",
      "Retrieving data for city 31 in set 7. City: Naryan-Mar\n",
      "Retrieving data for city 32 in set 7. City: North Platte\n",
      "Retrieving data for city 33 in set 7. City: Palanga\n",
      "Retrieving data for city 34 in set 7. City: Shimsk\n",
      "Retrieving data for city 35 in set 7. City: Chimoio\n",
      "Retrieving data for city 36 in set 7. City: Macapá\n",
      "Retrieving data for city 37 in set 7. City: Shingū\n",
      "Retrieving data for city 38 in set 7. City: Ontario\n",
      "Retrieving data for city 39 in set 7. City: Birao\n",
      "Retrieving data for city 40 in set 7. City: Gobabis\n",
      "Retrieving data for city 41 in set 7. City: Alvorada\n",
      "Retrieving data for city 42 in set 7. City: Turukhansk\n",
      "Retrieving data for city 43 in set 7. City: Clyde River\n",
      "Retrieving data for city 44 in set 7. City: Pervomayskiy\n",
      "Retrieving data for city 45 in set 7. City: Auki\n",
      "Retrieving data for city 46 in set 7. City: Māngrol\n",
      "Retrieving data for city 47 in set 7. City: La Romana\n",
      "Retrieving data for city 48 in set 7. City: Port-Cartier\n",
      "Retrieving data for city 49 in set 7. City: Praia da Vitória\n",
      "Retrieving data for city 50 in set 7. City: Palana\n",
      "Retrieving data for city 1 in set 8. City: Bathsheba\n",
      "Retrieving data for city 2 in set 8. City: Boone\n",
      "Retrieving data for city 3 in set 8. City: Tual\n",
      "Retrieving data for city 4 in set 8. City: Ceres\n",
      "Retrieving data for city 5 in set 8. City: Senno\n",
      "Retrieving data for city 6 in set 8. City: Turaif\n",
      "Retrieving data for city 7 in set 8. City: Hay River\n",
      "Retrieving data for city 8 in set 8. City: Isangel\n",
      "Retrieving data for city 9 in set 8. City: Iralaya\n",
      "Retrieving data for city 10 in set 8. City: Hokitika\n",
      "Missing data for this city, skipping to next\n",
      "Retrieving data for city 11 in set 8. City: Kununurra\n",
      "Retrieving data for city 12 in set 8. City: San Cristobal\n",
      "Retrieving data for city 13 in set 8. City: Benguela\n",
      "Retrieving data for city 14 in set 8. City: Biak\n",
      "Retrieving data for city 15 in set 8. City: Beloha\n",
      "Retrieving data for city 16 in set 8. City: Nemuro\n",
      "Retrieving data for city 17 in set 8. City: Emerald\n",
      "Retrieving data for city 18 in set 8. City: Storforshei\n",
      "Retrieving data for city 19 in set 8. City: Lillehammer\n",
      "Retrieving data for city 20 in set 8. City: Mananara\n",
      "Retrieving data for city 21 in set 8. City: Presidente Epitácio\n",
      "Retrieving data for city 22 in set 8. City: Brae\n",
      "Retrieving data for city 23 in set 8. City: Mount Isa\n",
      "Retrieving data for city 24 in set 8. City: Nogliki\n",
      "Retrieving data for city 25 in set 8. City: Nichinan\n",
      "Retrieving data for city 26 in set 8. City: Wewak\n",
      "Retrieving data for city 27 in set 8. City: Maple Creek\n",
      "Retrieving data for city 28 in set 8. City: Río Gallegos\n",
      "Retrieving data for city 29 in set 8. City: Bodden Town\n",
      "Retrieving data for city 30 in set 8. City: São Filipe\n",
      "Retrieving data for city 31 in set 8. City: Omsukchan\n",
      "Retrieving data for city 32 in set 8. City: Bilma\n",
      "Retrieving data for city 33 in set 8. City: Avera\n",
      "Retrieving data for city 34 in set 8. City: Orlik\n",
      "Retrieving data for city 35 in set 8. City: Madimba\n",
      "Retrieving data for city 36 in set 8. City: Esim\n",
      "Retrieving data for city 37 in set 8. City: Imeni Poliny Osipenko\n",
      "Retrieving data for city 38 in set 8. City: Sur\n",
      "Retrieving data for city 39 in set 8. City: Batemans Bay\n",
      "Retrieving data for city 40 in set 8. City: Jalu\n",
      "Retrieving data for city 41 in set 8. City: Mindelo\n",
      "Retrieving data for city 42 in set 8. City: Mahenge\n",
      "Retrieving data for city 43 in set 8. City: Karpathos\n",
      "Retrieving data for city 44 in set 8. City: Labuhan Deli\n",
      "Retrieving data for city 45 in set 8. City: Pouembout\n",
      "Retrieving data for city 46 in set 8. City: Kiunga\n",
      "Retrieving data for city 47 in set 8. City: Gondanglegi\n",
      "Retrieving data for city 48 in set 8. City: Lompoc\n",
      "Retrieving data for city 49 in set 8. City: Bayjī\n",
      "Retrieving data for city 50 in set 8. City: Richards Bay\n",
      "Missing data for this city, skipping to next\n",
      "Retrieving data for city 1 in set 9. City: Ostrogozhsk\n",
      "Retrieving data for city 2 in set 9. City: Mokhotlong\n",
      "Retrieving data for city 3 in set 9. City: Fairbanks\n",
      "Retrieving data for city 4 in set 9. City: Malakal\n",
      "Retrieving data for city 5 in set 9. City: Zonguldak\n",
      "Retrieving data for city 6 in set 9. City: Magadan\n",
      "Retrieving data for city 7 in set 9. City: Berlevåg\n",
      "Retrieving data for city 8 in set 9. City: Kasongo\n",
      "Retrieving data for city 9 in set 9. City: Vadamadurai\n",
      "Retrieving data for city 10 in set 9. City: Dawei\n",
      "Retrieving data for city 11 in set 9. City: Lviv\n",
      "Retrieving data for city 12 in set 9. City: Sola\n",
      "Retrieving data for city 13 in set 9. City: Enshi\n",
      "Retrieving data for city 14 in set 9. City: Balgazyn\n",
      "Retrieving data for city 15 in set 9. City: Shimoda\n",
      "Retrieving data for city 16 in set 9. City: Souillac\n",
      "Retrieving data for city 17 in set 9. City: Along\n",
      "Missing data for this city, skipping to next\n",
      "Retrieving data for city 18 in set 9. City: Guymon\n",
      "Retrieving data for city 19 in set 9. City: Klaksvík\n",
      "Retrieving data for city 20 in set 9. City: Puerto del Rosario\n",
      "Retrieving data for city 21 in set 9. City: Banda Aceh\n",
      "Retrieving data for city 22 in set 9. City: Ishigaki\n",
      "Retrieving data for city 23 in set 9. City: Meulaboh\n",
      "Retrieving data for city 24 in set 9. City: Taoudenni\n",
      "Retrieving data for city 25 in set 9. City: Dudinka\n",
      "Retrieving data for city 26 in set 9. City: Bonavista\n",
      "Retrieving data for city 27 in set 9. City: Concepción\n",
      "Retrieving data for city 28 in set 9. City: Sitka\n",
      "Retrieving data for city 29 in set 9. City: Mahébourg\n",
      "Retrieving data for city 30 in set 9. City: Bethanien\n",
      "Retrieving data for city 31 in set 9. City: At-Bashi\n",
      "Retrieving data for city 32 in set 9. City: Hukuntsi\n",
      "Retrieving data for city 33 in set 9. City: Miles City\n",
      "Retrieving data for city 34 in set 9. City: Aykhal\n",
      "Retrieving data for city 35 in set 9. City: Kailua\n",
      "Retrieving data for city 36 in set 9. City: Caucaia\n"
     ]
    },
    {
     "name": "stdout",
     "output_type": "stream",
     "text": [
      "Retrieving data for city 37 in set 9. City: Deputatsky\n",
      "Retrieving data for city 38 in set 9. City: Urmia\n",
      "Retrieving data for city 39 in set 9. City: Am Timan\n",
      "Retrieving data for city 40 in set 9. City: Puerto Baquerizo Moreno\n",
      "Retrieving data for city 41 in set 9. City: Bubaque\n",
      "Retrieving data for city 42 in set 9. City: Sharjah city\n",
      "Retrieving data for city 43 in set 9. City: Erzin\n",
      "Retrieving data for city 44 in set 9. City: Tsimmerbude\n",
      "Retrieving data for city 45 in set 9. City: Salāya\n",
      "Retrieving data for city 46 in set 9. City: Gimli\n",
      "Retrieving data for city 47 in set 9. City: Chino Valley\n",
      "Retrieving data for city 48 in set 9. City: Half Moon Bay\n",
      "Retrieving data for city 49 in set 9. City: Kieta\n",
      "Retrieving data for city 50 in set 9. City: Lolodorf\n",
      "Retrieving data for city 1 in set 10. City: Coyhaique\n",
      "Retrieving data for city 2 in set 10. City: Luena\n",
      "Retrieving data for city 3 in set 10. City: Madawaska\n",
      "Retrieving data for city 4 in set 10. City: Mnogovershinnyy\n",
      "Retrieving data for city 5 in set 10. City: Seredka\n",
      "Retrieving data for city 6 in set 10. City: Myitkyina\n",
      "Retrieving data for city 7 in set 10. City: Tabou\n",
      "Retrieving data for city 8 in set 10. City: Baiquan\n",
      "Retrieving data for city 9 in set 10. City: Baykit\n",
      "Retrieving data for city 10 in set 10. City: Forest\n",
      "Retrieving data for city 11 in set 10. City: Kapoeta\n",
      "Retrieving data for city 12 in set 10. City: Marabba\n",
      "Retrieving data for city 13 in set 10. City: Riberalta\n",
      "Retrieving data for city 14 in set 10. City: Hamilton\n",
      "Missing data for this city, skipping to next\n",
      "Retrieving data for city 15 in set 10. City: Aquiraz\n",
      "Retrieving data for city 16 in set 10. City: Lewisporte\n",
      "Retrieving data for city 17 in set 10. City: Korla\n",
      "Retrieving data for city 18 in set 10. City: Stromness\n",
      "Retrieving data for city 19 in set 10. City: San Juan Bautista\n",
      "Retrieving data for city 20 in set 10. City: Jambi City\n",
      "Retrieving data for city 21 in set 10. City: San Ignacio\n",
      "Retrieving data for city 22 in set 10. City: Tongchuanshi\n",
      "Retrieving data for city 23 in set 10. City: Ternate\n",
      "Retrieving data for city 24 in set 10. City: Nyurba\n",
      "Retrieving data for city 25 in set 10. City: Neuquén\n",
      "Retrieving data for city 26 in set 10. City: Aswān\n",
      "Retrieving data for city 27 in set 10. City: Havre-St-Pierre\n",
      "Retrieving data for city 28 in set 10. City: College\n",
      "Retrieving data for city 29 in set 10. City: Conde\n",
      "Retrieving data for city 30 in set 10. City: Urengoy\n",
      "Retrieving data for city 31 in set 10. City: Taksimo\n",
      "Missing data for this city, skipping to next\n",
      "Retrieving data for city 32 in set 10. City: Te Anau\n",
      "Retrieving data for city 33 in set 10. City: Takapau\n",
      "Retrieving data for city 34 in set 10. City: Cervo\n",
      "Retrieving data for city 35 in set 10. City: Hengyang\n",
      "Retrieving data for city 36 in set 10. City: Filingué\n",
      "Retrieving data for city 37 in set 10. City: Ambilobe\n",
      "Retrieving data for city 38 in set 10. City: Muisne\n",
      "Retrieving data for city 39 in set 10. City: Asău\n",
      "Retrieving data for city 40 in set 10. City: Shemgang\n",
      "Retrieving data for city 41 in set 10. City: Zadar\n",
      "Retrieving data for city 42 in set 10. City: Bāsudebpur\n",
      "Retrieving data for city 43 in set 10. City: Songjianghe\n",
      "Retrieving data for city 44 in set 10. City: Porto-Novo\n",
      "Retrieving data for city 45 in set 10. City: Zhezkazgan\n",
      "Retrieving data for city 46 in set 10. City: Imphal\n",
      "Retrieving data for city 47 in set 10. City: Harper\n",
      "Retrieving data for city 48 in set 10. City: Demerval Lobão\n",
      "Retrieving data for city 49 in set 10. City: Marshall\n",
      "Retrieving data for city 50 in set 10. City: Puerto Peñasco\n",
      "Retrieving data for city 1 in set 11. City: Thoen\n",
      "Retrieving data for city 2 in set 11. City: Kyshtovka\n",
      "Retrieving data for city 3 in set 11. City: Longido\n",
      "Retrieving data for city 4 in set 11. City: Abu Dhabi\n",
      "Retrieving data for city 5 in set 11. City: Yeniseysk\n",
      "Retrieving data for city 6 in set 11. City: Argayash\n",
      "Retrieving data for city 7 in set 11. City: Pisco\n",
      "Retrieving data for city 8 in set 11. City: Mount Gambier\n",
      "Retrieving data for city 9 in set 11. City: Beringovskiy\n",
      "Retrieving data for city 10 in set 11. City: Kapuskasing\n",
      "Retrieving data for city 11 in set 11. City: Rosarito\n",
      "Retrieving data for city 12 in set 11. City: Eldorado\n",
      "Retrieving data for city 13 in set 11. City: Bilibino\n",
      "Retrieving data for city 14 in set 11. City: Jalalabad\n",
      "Retrieving data for city 15 in set 11. City: Acaraú\n",
      "Retrieving data for city 16 in set 11. City: Namuac\n",
      "Missing data for this city, skipping to next\n",
      "Retrieving data for city 17 in set 11. City: Antequera\n",
      "Missing data for this city, skipping to next\n",
      "Retrieving data for city 18 in set 11. City: Uíge\n",
      "Retrieving data for city 19 in set 11. City: Anáhuac\n",
      "Retrieving data for city 20 in set 11. City: Darovskoy\n",
      "Retrieving data for city 21 in set 11. City: Coahuayana Viejo\n",
      "Retrieving data for city 22 in set 11. City: Camacha\n",
      "Data collection complete!\n"
     ]
    }
   ],
   "source": [
    "#Set up URL\n",
    "\n",
    "url = \"http://api.openweathermap.org/data/2.5/weather?\"\n",
    "\n",
    "#Create dictionary to store data from API calls (example call shown at https://openweathermap.org/current#current_JSON)\n",
    "weather_dict= {\"City\": [],\"Country\": [], \"Latitude\": [],\n",
    "               \"Longitude\": [],\"Max Temperature\": [], \"Cloudiness\": [],\n",
    "               \"Wind Speed\": [],\"Humidity\": [],\"Date\": []}\n",
    "            \n",
    "#Create variables to assist in limiting call numbers\n",
    "call_num = 1\n",
    "set_num = 1\n",
    "\n",
    "#Randomly select 500 cities from the list:\n",
    "rand_cities = random.choices(cities, k=560)\n",
    "\n",
    "\n",
    "#For loop to iterate through cities and make API calls\n",
    "\n",
    "for i, city in enumerate(rand_cities):\n",
    "    query_url = url+\"appid=\"+weather_api_key+\"&units=imperial\"+\"&q=\"+cities[i]\n",
    "    city = requests.get(query_url).json()\n",
    "    \n",
    "#Try statement to store complete data into dictionary\n",
    "    try:\n",
    "        weather_dict[\"City\"].append(city[\"name\"])\n",
    "        weather_dict[\"Country\"].append(city[\"sys\"][\"country\"])\n",
    "        weather_dict[\"Latitude\"].append(city[\"coord\"][\"lat\"])\n",
    "        weather_dict['Longitude'].append(city['coord']['lon'])\n",
    "        weather_dict['Max Temperature'].append(city[\"main\"][\"temp_max\"])\n",
    "        weather_dict['Cloudiness'].append(city[\"clouds\"][\"all\"])\n",
    "        weather_dict['Wind Speed'].append(city['wind']['speed'])\n",
    "        weather_dict['Humidity'].append(city['main']['humidity'])\n",
    "        weather_dict['Date'].append(city['dt'])\n",
    "        city_name=city[\"name\"]\n",
    "        \n",
    "        #Print statement with city number and city name for each city     \n",
    "        print(f\"Retrieving data for city {call_num} in set {set_num}. City: {city_name}\")            \n",
    "     \n",
    "       #iterate on call and set counters\n",
    "        if call_num == 50:\n",
    "            call_num = 1\n",
    "            set_num += 1\n",
    "            time.sleep(60)\n",
    "        else:\n",
    "            call_num +=1\n",
    "    \n",
    "    except: \n",
    "        print(\"Missing data for this city, skipping to next\")\n",
    "        pass\n",
    "    \n",
    "print(\"Data collection complete!\")\n"
   ]
  },
  {
   "cell_type": "markdown",
   "metadata": {},
   "source": [
    "### Convert Raw Data to DataFrame\n",
    "* Export the city data into a .csv.\n",
    "* Display the DataFrame"
   ]
  },
  {
   "cell_type": "code",
   "execution_count": 5,
   "metadata": {
    "scrolled": true
   },
   "outputs": [
    {
     "data": {
      "text/html": [
       "<div>\n",
       "<style scoped>\n",
       "    .dataframe tbody tr th:only-of-type {\n",
       "        vertical-align: middle;\n",
       "    }\n",
       "\n",
       "    .dataframe tbody tr th {\n",
       "        vertical-align: top;\n",
       "    }\n",
       "\n",
       "    .dataframe thead th {\n",
       "        text-align: right;\n",
       "    }\n",
       "</style>\n",
       "<table border=\"1\" class=\"dataframe\">\n",
       "  <thead>\n",
       "    <tr style=\"text-align: right;\">\n",
       "      <th></th>\n",
       "      <th>City</th>\n",
       "      <th>Country</th>\n",
       "      <th>Latitude</th>\n",
       "      <th>Longitude</th>\n",
       "      <th>Max Temperature</th>\n",
       "      <th>Cloudiness</th>\n",
       "      <th>Wind Speed</th>\n",
       "      <th>Humidity</th>\n",
       "      <th>Date</th>\n",
       "    </tr>\n",
       "  </thead>\n",
       "  <tbody>\n",
       "    <tr>\n",
       "      <th>0</th>\n",
       "      <td>Ribeira Grande</td>\n",
       "      <td>PT</td>\n",
       "      <td>38.5167</td>\n",
       "      <td>-28.7000</td>\n",
       "      <td>61.20</td>\n",
       "      <td>40</td>\n",
       "      <td>16.11</td>\n",
       "      <td>82</td>\n",
       "      <td>1643993085</td>\n",
       "    </tr>\n",
       "    <tr>\n",
       "      <th>1</th>\n",
       "      <td>Ulaangom</td>\n",
       "      <td>MN</td>\n",
       "      <td>49.9811</td>\n",
       "      <td>92.0667</td>\n",
       "      <td>-21.33</td>\n",
       "      <td>80</td>\n",
       "      <td>3.13</td>\n",
       "      <td>93</td>\n",
       "      <td>1643993085</td>\n",
       "    </tr>\n",
       "    <tr>\n",
       "      <th>2</th>\n",
       "      <td>Saskylakh</td>\n",
       "      <td>RU</td>\n",
       "      <td>71.9167</td>\n",
       "      <td>114.0833</td>\n",
       "      <td>-7.92</td>\n",
       "      <td>100</td>\n",
       "      <td>4.25</td>\n",
       "      <td>99</td>\n",
       "      <td>1643993039</td>\n",
       "    </tr>\n",
       "    <tr>\n",
       "      <th>3</th>\n",
       "      <td>Jamestown</td>\n",
       "      <td>US</td>\n",
       "      <td>42.0970</td>\n",
       "      <td>-79.2353</td>\n",
       "      <td>21.09</td>\n",
       "      <td>100</td>\n",
       "      <td>5.01</td>\n",
       "      <td>62</td>\n",
       "      <td>1643993085</td>\n",
       "    </tr>\n",
       "    <tr>\n",
       "      <th>4</th>\n",
       "      <td>Saint George</td>\n",
       "      <td>US</td>\n",
       "      <td>37.1041</td>\n",
       "      <td>-113.5841</td>\n",
       "      <td>41.47</td>\n",
       "      <td>0</td>\n",
       "      <td>1.01</td>\n",
       "      <td>44</td>\n",
       "      <td>1643992861</td>\n",
       "    </tr>\n",
       "    <tr>\n",
       "      <th>...</th>\n",
       "      <td>...</td>\n",
       "      <td>...</td>\n",
       "      <td>...</td>\n",
       "      <td>...</td>\n",
       "      <td>...</td>\n",
       "      <td>...</td>\n",
       "      <td>...</td>\n",
       "      <td>...</td>\n",
       "      <td>...</td>\n",
       "    </tr>\n",
       "    <tr>\n",
       "      <th>517</th>\n",
       "      <td>Uíge</td>\n",
       "      <td>AO</td>\n",
       "      <td>-7.6087</td>\n",
       "      <td>15.0613</td>\n",
       "      <td>71.42</td>\n",
       "      <td>96</td>\n",
       "      <td>2.73</td>\n",
       "      <td>87</td>\n",
       "      <td>1643993829</td>\n",
       "    </tr>\n",
       "    <tr>\n",
       "      <th>518</th>\n",
       "      <td>Anáhuac</td>\n",
       "      <td>MX</td>\n",
       "      <td>27.2333</td>\n",
       "      <td>-100.1500</td>\n",
       "      <td>34.54</td>\n",
       "      <td>100</td>\n",
       "      <td>22.01</td>\n",
       "      <td>38</td>\n",
       "      <td>1643993829</td>\n",
       "    </tr>\n",
       "    <tr>\n",
       "      <th>519</th>\n",
       "      <td>Darovskoy</td>\n",
       "      <td>RU</td>\n",
       "      <td>58.7700</td>\n",
       "      <td>47.9564</td>\n",
       "      <td>14.29</td>\n",
       "      <td>100</td>\n",
       "      <td>7.09</td>\n",
       "      <td>94</td>\n",
       "      <td>1643993829</td>\n",
       "    </tr>\n",
       "    <tr>\n",
       "      <th>520</th>\n",
       "      <td>Coahuayana Viejo</td>\n",
       "      <td>MX</td>\n",
       "      <td>18.7333</td>\n",
       "      <td>-103.6833</td>\n",
       "      <td>81.88</td>\n",
       "      <td>4</td>\n",
       "      <td>3.44</td>\n",
       "      <td>30</td>\n",
       "      <td>1643993830</td>\n",
       "    </tr>\n",
       "    <tr>\n",
       "      <th>521</th>\n",
       "      <td>Camacha</td>\n",
       "      <td>PT</td>\n",
       "      <td>33.0833</td>\n",
       "      <td>-16.3333</td>\n",
       "      <td>68.54</td>\n",
       "      <td>20</td>\n",
       "      <td>3.44</td>\n",
       "      <td>82</td>\n",
       "      <td>1643993830</td>\n",
       "    </tr>\n",
       "  </tbody>\n",
       "</table>\n",
       "<p>522 rows × 9 columns</p>\n",
       "</div>"
      ],
      "text/plain": [
       "                 City Country  Latitude  Longitude  Max Temperature  \\\n",
       "0      Ribeira Grande      PT   38.5167   -28.7000            61.20   \n",
       "1            Ulaangom      MN   49.9811    92.0667           -21.33   \n",
       "2           Saskylakh      RU   71.9167   114.0833            -7.92   \n",
       "3           Jamestown      US   42.0970   -79.2353            21.09   \n",
       "4        Saint George      US   37.1041  -113.5841            41.47   \n",
       "..                ...     ...       ...        ...              ...   \n",
       "517              Uíge      AO   -7.6087    15.0613            71.42   \n",
       "518           Anáhuac      MX   27.2333  -100.1500            34.54   \n",
       "519         Darovskoy      RU   58.7700    47.9564            14.29   \n",
       "520  Coahuayana Viejo      MX   18.7333  -103.6833            81.88   \n",
       "521           Camacha      PT   33.0833   -16.3333            68.54   \n",
       "\n",
       "     Cloudiness  Wind Speed  Humidity        Date  \n",
       "0            40       16.11        82  1643993085  \n",
       "1            80        3.13        93  1643993085  \n",
       "2           100        4.25        99  1643993039  \n",
       "3           100        5.01        62  1643993085  \n",
       "4             0        1.01        44  1643992861  \n",
       "..          ...         ...       ...         ...  \n",
       "517          96        2.73        87  1643993829  \n",
       "518         100       22.01        38  1643993829  \n",
       "519         100        7.09        94  1643993829  \n",
       "520           4        3.44        30  1643993830  \n",
       "521          20        3.44        82  1643993830  \n",
       "\n",
       "[522 rows x 9 columns]"
      ]
     },
     "execution_count": 5,
     "metadata": {},
     "output_type": "execute_result"
    }
   ],
   "source": [
    "weather_df=pd.DataFrame(weather_dict)\n",
    "\n",
    "weather_df.to_csv(output_data_file)\n",
    "weather_df\n"
   ]
  },
  {
   "cell_type": "code",
   "execution_count": 6,
   "metadata": {},
   "outputs": [
    {
     "name": "stdout",
     "output_type": "stream",
     "text": [
      "No rows with Humidity over 100\n"
     ]
    }
   ],
   "source": [
    "#Determine if humidity outliers need to be removed\n",
    "\n",
    "try:\n",
    "    weather_df.loc(weather_df[weather_df['Humidity']]<=100)\n",
    "except:\n",
    "    print(\"No rows with Humidity over 100\")"
   ]
  },
  {
   "cell_type": "markdown",
   "metadata": {},
   "source": [
    "## Inspect the data and remove the cities where the humidity > 100%.\n",
    "----\n",
    "Skip this step if there are no cities that have humidity > 100%. "
   ]
  },
  {
   "cell_type": "code",
   "execution_count": 7,
   "metadata": {},
   "outputs": [
    {
     "data": {
      "text/html": [
       "<div>\n",
       "<style scoped>\n",
       "    .dataframe tbody tr th:only-of-type {\n",
       "        vertical-align: middle;\n",
       "    }\n",
       "\n",
       "    .dataframe tbody tr th {\n",
       "        vertical-align: top;\n",
       "    }\n",
       "\n",
       "    .dataframe thead th {\n",
       "        text-align: right;\n",
       "    }\n",
       "</style>\n",
       "<table border=\"1\" class=\"dataframe\">\n",
       "  <thead>\n",
       "    <tr style=\"text-align: right;\">\n",
       "      <th></th>\n",
       "      <th>Latitude</th>\n",
       "      <th>Longitude</th>\n",
       "      <th>Max Temperature</th>\n",
       "      <th>Cloudiness</th>\n",
       "      <th>Wind Speed</th>\n",
       "      <th>Humidity</th>\n",
       "      <th>Date</th>\n",
       "    </tr>\n",
       "  </thead>\n",
       "  <tbody>\n",
       "    <tr>\n",
       "      <th>count</th>\n",
       "      <td>522.000000</td>\n",
       "      <td>522.000000</td>\n",
       "      <td>522.000000</td>\n",
       "      <td>522.000000</td>\n",
       "      <td>522.000000</td>\n",
       "      <td>522.000000</td>\n",
       "      <td>5.220000e+02</td>\n",
       "    </tr>\n",
       "    <tr>\n",
       "      <th>mean</th>\n",
       "      <td>19.985581</td>\n",
       "      <td>17.303060</td>\n",
       "      <td>49.562739</td>\n",
       "      <td>60.856322</td>\n",
       "      <td>8.873774</td>\n",
       "      <td>72.210728</td>\n",
       "      <td>1.643993e+09</td>\n",
       "    </tr>\n",
       "    <tr>\n",
       "      <th>std</th>\n",
       "      <td>33.347175</td>\n",
       "      <td>90.977310</td>\n",
       "      <td>33.558038</td>\n",
       "      <td>39.363024</td>\n",
       "      <td>6.790358</td>\n",
       "      <td>21.954359</td>\n",
       "      <td>2.373595e+02</td>\n",
       "    </tr>\n",
       "    <tr>\n",
       "      <th>min</th>\n",
       "      <td>-54.800000</td>\n",
       "      <td>-175.200000</td>\n",
       "      <td>-36.040000</td>\n",
       "      <td>0.000000</td>\n",
       "      <td>0.000000</td>\n",
       "      <td>6.000000</td>\n",
       "      <td>1.643993e+09</td>\n",
       "    </tr>\n",
       "    <tr>\n",
       "      <th>25%</th>\n",
       "      <td>-7.165875</td>\n",
       "      <td>-65.125550</td>\n",
       "      <td>25.470000</td>\n",
       "      <td>20.000000</td>\n",
       "      <td>3.907500</td>\n",
       "      <td>62.000000</td>\n",
       "      <td>1.643993e+09</td>\n",
       "    </tr>\n",
       "    <tr>\n",
       "      <th>50%</th>\n",
       "      <td>24.219100</td>\n",
       "      <td>20.513700</td>\n",
       "      <td>61.045000</td>\n",
       "      <td>75.000000</td>\n",
       "      <td>7.100000</td>\n",
       "      <td>76.500000</td>\n",
       "      <td>1.643993e+09</td>\n",
       "    </tr>\n",
       "    <tr>\n",
       "      <th>75%</th>\n",
       "      <td>48.669325</td>\n",
       "      <td>95.091675</td>\n",
       "      <td>78.095000</td>\n",
       "      <td>100.000000</td>\n",
       "      <td>11.605000</td>\n",
       "      <td>89.000000</td>\n",
       "      <td>1.643994e+09</td>\n",
       "    </tr>\n",
       "    <tr>\n",
       "      <th>max</th>\n",
       "      <td>78.218600</td>\n",
       "      <td>179.316700</td>\n",
       "      <td>97.560000</td>\n",
       "      <td>100.000000</td>\n",
       "      <td>45.900000</td>\n",
       "      <td>100.000000</td>\n",
       "      <td>1.643994e+09</td>\n",
       "    </tr>\n",
       "  </tbody>\n",
       "</table>\n",
       "</div>"
      ],
      "text/plain": [
       "         Latitude   Longitude  Max Temperature  Cloudiness  Wind Speed  \\\n",
       "count  522.000000  522.000000       522.000000  522.000000  522.000000   \n",
       "mean    19.985581   17.303060        49.562739   60.856322    8.873774   \n",
       "std     33.347175   90.977310        33.558038   39.363024    6.790358   \n",
       "min    -54.800000 -175.200000       -36.040000    0.000000    0.000000   \n",
       "25%     -7.165875  -65.125550        25.470000   20.000000    3.907500   \n",
       "50%     24.219100   20.513700        61.045000   75.000000    7.100000   \n",
       "75%     48.669325   95.091675        78.095000  100.000000   11.605000   \n",
       "max     78.218600  179.316700        97.560000  100.000000   45.900000   \n",
       "\n",
       "         Humidity          Date  \n",
       "count  522.000000  5.220000e+02  \n",
       "mean    72.210728  1.643993e+09  \n",
       "std     21.954359  2.373595e+02  \n",
       "min      6.000000  1.643993e+09  \n",
       "25%     62.000000  1.643993e+09  \n",
       "50%     76.500000  1.643993e+09  \n",
       "75%     89.000000  1.643994e+09  \n",
       "max    100.000000  1.643994e+09  "
      ]
     },
     "execution_count": 7,
     "metadata": {},
     "output_type": "execute_result"
    }
   ],
   "source": [
    "#Create summary chart\n",
    "weather_df.describe()"
   ]
  },
  {
   "cell_type": "markdown",
   "metadata": {},
   "source": [
    "## Plotting the Data\n",
    "* Use proper labeling of the plots using plot titles (including date of analysis) and axes labels.\n",
    "* Save the plotted figures as .pngs."
   ]
  },
  {
   "cell_type": "markdown",
   "metadata": {},
   "source": [
    "## Latitude vs. Temperature Plot"
   ]
  },
  {
   "cell_type": "code",
   "execution_count": 8,
   "metadata": {
    "scrolled": true
   },
   "outputs": [
    {
     "name": "stdout",
     "output_type": "stream",
     "text": [
      "This shows a possible negative, curvilinear relationship between Latitude and Temperature\n"
     ]
    },
    {
     "data": {
      "image/png": "[encoded data removed]",
      "text/plain": [
       "<Figure size 432x288 with 1 Axes>"
      ]
     },
     "metadata": {
      "needs_background": "light"
     },
     "output_type": "display_data"
    }
   ],
   "source": [
    "plt.scatter(weather_df['Latitude'], weather_df['Max Temperature'])\n",
    "plt.title(\"Latitude vs. Temperature (02/02/2022)\")\n",
    "plt.xlabel(\"Latitude\")\n",
    "plt.ylabel(\"Max Temperature\")\n",
    "plt.savefig('output_data/scatter1')\n",
    "print('This shows a possible negative, curvilinear relationship between Latitude and Temperature')"
   ]
  },
  {
   "cell_type": "markdown",
   "metadata": {},
   "source": [
    "## Latitude vs. Humidity Plot"
   ]
  },
  {
   "cell_type": "code",
   "execution_count": 9,
   "metadata": {},
   "outputs": [
    {
     "name": "stdout",
     "output_type": "stream",
     "text": [
      "This plot shows how Latitude might affect Humidity. At first glance, there doesn't appear to be a relationship\n"
     ]
    },
    {
     "data": {
      "image/png": "[encoded data removed]",
      "text/plain": [
       "<Figure size 432x288 with 1 Axes>"
      ]
     },
     "metadata": {
      "needs_background": "light"
     },
     "output_type": "display_data"
    }
   ],
   "source": [
    "plt.scatter(weather_df['Latitude'], weather_df['Humidity'])\n",
    "plt.title(\"Latitude vs. Humidity (02/02/2022)\")\n",
    "plt.xlabel(\"Latitude\")\n",
    "plt.ylabel(\"Humidity\")\n",
    "plt.savefig('output_data/scatter2')\n",
    "print(\"This plot shows how Latitude might affect Humidity. At first glance, there doesn't appear to be a relationship\")"
   ]
  },
  {
   "cell_type": "markdown",
   "metadata": {},
   "source": [
    "## Latitude vs. Cloudiness Plot"
   ]
  },
  {
   "cell_type": "code",
   "execution_count": 10,
   "metadata": {},
   "outputs": [
    {
     "name": "stdout",
     "output_type": "stream",
     "text": [
      "This plot shows how Latitude might affect Cloudiness. At first glance, there doesn't appear to be a relationship\n"
     ]
    },
    {
     "data": {
      "image/png": "[encoded data removed]",
      "text/plain": [
       "<Figure size 432x288 with 1 Axes>"
      ]
     },
     "metadata": {
      "needs_background": "light"
     },
     "output_type": "display_data"
    }
   ],
   "source": [
    "plt.scatter(weather_df['Latitude'], weather_df['Cloudiness'])\n",
    "plt.title(\"Latitude vs. Cloudiness (02/02/2022)\")\n",
    "plt.xlabel(\"Latitude\")\n",
    "plt.ylabel(\"Cloudiness\")\n",
    "plt.savefig('output_data/scatter3')\n",
    "print(\"This plot shows how Latitude might affect Cloudiness. At first glance, there doesn't appear to be a relationship\")"
   ]
  },
  {
   "cell_type": "markdown",
   "metadata": {},
   "source": [
    "## Latitude vs. Wind Speed Plot"
   ]
  },
  {
   "cell_type": "code",
   "execution_count": 11,
   "metadata": {},
   "outputs": [
    {
     "name": "stdout",
     "output_type": "stream",
     "text": [
      "This shows a possible positive, linear relationship between Latitude and Windspeed\n"
     ]
    },
    {
     "data": {
      "image/png": "[encoded data removed]",
      "text/plain": [
       "<Figure size 432x288 with 1 Axes>"
      ]
     },
     "metadata": {
      "needs_background": "light"
     },
     "output_type": "display_data"
    }
   ],
   "source": [
    "plt.scatter(weather_df['Latitude'], weather_df['Wind Speed'])\n",
    "plt.title(\"Latitude vs. Wind Speed (02/02/2022)\")\n",
    "plt.xlabel(\"Latitude\")\n",
    "plt.ylabel(\"Wind Speed\")\n",
    "plt.savefig('output_data/scatter4')\n",
    "print('This shows a possible positive, linear relationship between Latitude and Windspeed')"
   ]
  },
  {
   "cell_type": "markdown",
   "metadata": {},
   "source": [
    "## Linear Regression"
   ]
  },
  {
   "cell_type": "code",
   "execution_count": 12,
   "metadata": {},
   "outputs": [],
   "source": [
    "#Create new dataframes for both hemispheres\n",
    "\n",
    "north_df = weather_df.loc[weather_df['Latitude']>=0]\n",
    "south_df = weather_df.loc[weather_df['Latitude']<=0]\n"
   ]
  },
  {
   "cell_type": "markdown",
   "metadata": {},
   "source": [
    "####  Northern Hemisphere - Max Temp vs. Latitude Linear Regression"
   ]
  },
  {
   "cell_type": "code",
   "execution_count": 14,
   "metadata": {},
   "outputs": [
    {
     "name": "stdout",
     "output_type": "stream",
     "text": [
      "the p value is 1.545461914323427e-113 and the r value is -0.873849597963916\n"
     ]
    },
    {
     "data": {
      "image/png": "[encoded data removed]",
      "text/plain": [
       "<Figure size 432x288 with 1 Axes>"
      ]
     },
     "metadata": {
      "needs_background": "light"
     },
     "output_type": "display_data"
    }
   ],
   "source": [
    "#Generate Regression and plot\n",
    "(slope, intercept, rvalue, pvalue, stderr) = linregress(north_df['Latitude'], north_df['Max Temperature'])\n",
    "regress_values = north_df['Latitude']*slope + intercept\n",
    "line_eq = \"y = \" + str(round(slope,4)) + \"x + \" + str(round(intercept,4))\n",
    "\n",
    "plt.scatter(north_df['Latitude'],north_df['Max Temperature'])\n",
    "plt.plot(north_df['Latitude'],regress_values,\"r-\")\n",
    "plt.annotate(line_eq,xy=(0,-10),fontsize=12,color=\"red\")\n",
    "plt.xlabel(\"Latitude\")\n",
    "plt.ylabel(\"Max Temperature\")\n",
    "plt.savefig('output_data/reg1')\n",
    "print(f'the p value is {pvalue} and the r value is {rvalue}')"
   ]
  },
  {
   "cell_type": "markdown",
   "metadata": {},
   "source": [
    "####  Southern Hemisphere - Max Temp vs. Latitude Linear Regression"
   ]
  },
  {
   "cell_type": "code",
   "execution_count": 16,
   "metadata": {},
   "outputs": [
    {
     "name": "stdout",
     "output_type": "stream",
     "text": [
      "the p value is 9.334865768826723e-25 and the r value is 0.6926000956790135\n"
     ]
    },
    {
     "data": {
      "image/png": "[encoded data removed]",
      "text/plain": [
       "<Figure size 432x288 with 1 Axes>"
      ]
     },
     "metadata": {
      "needs_background": "light"
     },
     "output_type": "display_data"
    }
   ],
   "source": [
    "#Generate Regression and plot\n",
    "(slope, intercept, rvalue, pvalue, stderr) = linregress(south_df['Latitude'], south_df['Max Temperature'])\n",
    "regress_values = south_df['Latitude']*slope + intercept\n",
    "line_eq = \"y = \" + str(round(slope,4)) + \"x + \" + str(round(intercept,4))\n",
    "\n",
    "plt.scatter(south_df['Latitude'],south_df['Max Temperature'])\n",
    "plt.plot(south_df['Latitude'],regress_values,\"r-\")\n",
    "plt.annotate(line_eq,xy=(-50,90),fontsize=12,color=\"red\")\n",
    "plt.xlabel(\"Latitude\")\n",
    "plt.ylabel(\"Max Temperature\")\n",
    "plt.savefig('output_data/reg2')\n",
    "print(f'the p value is {pvalue} and the r value is {rvalue}')"
   ]
  },
  {
   "cell_type": "markdown",
   "metadata": {},
   "source": [
    "####  Northern Hemisphere - Humidity (%) vs. Latitude Linear Regression"
   ]
  },
  {
   "cell_type": "code",
   "execution_count": 17,
   "metadata": {},
   "outputs": [
    {
     "name": "stdout",
     "output_type": "stream",
     "text": [
      "the p value is 8.499347923608178e-22 and the r value is 0.4775910531150967\n"
     ]
    },
    {
     "data": {
      "image/png": "[encoded data removed]",
      "text/plain": [
       "<Figure size 432x288 with 1 Axes>"
      ]
     },
     "metadata": {
      "needs_background": "light"
     },
     "output_type": "display_data"
    }
   ],
   "source": [
    "(slope, intercept, rvalue, pvalue, stderr) = linregress(north_df['Latitude'], north_df['Humidity'])\n",
    "regress_values = north_df['Latitude']*slope + intercept\n",
    "line_eq = \"y = \" + str(round(slope,4)) + \"x + \" + str(round(intercept,4))\n",
    "\n",
    "plt.scatter(north_df['Latitude'],north_df['Humidity'])\n",
    "plt.plot(north_df['Latitude'],regress_values,\"r-\")\n",
    "plt.annotate(line_eq,xy=(45,15),fontsize=12,color=\"red\")\n",
    "plt.xlabel(\"Latitude\")\n",
    "plt.ylabel(\"Humidity\")\n",
    "plt.savefig('output_data/reg3')\n",
    "print(f'the p value is {pvalue} and the r value is {rvalue}')"
   ]
  },
  {
   "cell_type": "markdown",
   "metadata": {},
   "source": [
    "####  Southern Hemisphere - Humidity (%) vs. Latitude Linear Regression"
   ]
  },
  {
   "cell_type": "code",
   "execution_count": 18,
   "metadata": {},
   "outputs": [
    {
     "name": "stdout",
     "output_type": "stream",
     "text": [
      "the p value is 0.14479495799588707 and the r value is 0.11436440885099322\n"
     ]
    },
    {
     "data": {
      "image/png": "[encoded data removed]",
      "text/plain": [
       "<Figure size 432x288 with 1 Axes>"
      ]
     },
     "metadata": {
      "needs_background": "light"
     },
     "output_type": "display_data"
    }
   ],
   "source": [
    "(slope, intercept, rvalue, pvalue, stderr) = linregress(south_df['Latitude'], south_df['Humidity'])\n",
    "regress_values = south_df['Latitude']*slope + intercept\n",
    "line_eq = \"y = \" + str(round(slope,4)) + \"x + \" + str(round(intercept,4))\n",
    "\n",
    "plt.scatter(south_df['Latitude'],south_df['Humidity'])\n",
    "plt.plot(south_df['Latitude'],regress_values,\"r-\")\n",
    "plt.annotate(line_eq,xy=(45,15),fontsize=12,color=\"red\")\n",
    "plt.xlabel(\"Latitude\")\n",
    "plt.ylabel(\"Humidity\")\n",
    "plt.savefig('output_data/reg4')\n",
    "print(f'the p value is {pvalue} and the r value is {rvalue}')"
   ]
  },
  {
   "cell_type": "markdown",
   "metadata": {},
   "source": [
    "####  Northern Hemisphere - Cloudiness (%) vs. Latitude Linear Regression"
   ]
  },
  {
   "cell_type": "code",
   "execution_count": 19,
   "metadata": {},
   "outputs": [
    {
     "name": "stdout",
     "output_type": "stream",
     "text": [
      "the p value is 3.009181484562841e-11 and the r value is 0.3418177715768473\n"
     ]
    },
    {
     "data": {
      "image/png": "[encoded data removed]",
      "text/plain": [
       "<Figure size 432x288 with 1 Axes>"
      ]
     },
     "metadata": {
      "needs_background": "light"
     },
     "output_type": "display_data"
    }
   ],
   "source": [
    "(slope, intercept, rvalue, pvalue, stderr) = linregress(north_df['Latitude'], north_df['Cloudiness'])\n",
    "regress_values = north_df['Latitude']*slope + intercept\n",
    "line_eq = \"y = \" + str(round(slope,4)) + \"x + \" + str(round(intercept,4))\n",
    "\n",
    "plt.scatter(north_df['Latitude'],north_df['Cloudiness'])\n",
    "plt.plot(north_df['Latitude'],regress_values,\"r-\")\n",
    "plt.annotate(line_eq,xy=(45,15),fontsize=12,color=\"red\")\n",
    "plt.xlabel(\"Latitude\")\n",
    "plt.ylabel(\"Cloudiness\")\n",
    "plt.savefig('output_data/reg5')\n",
    "print(f'the p value is {pvalue} and the r value is {rvalue}')"
   ]
  },
  {
   "cell_type": "markdown",
   "metadata": {},
   "source": [
    "####  Southern Hemisphere - Cloudiness (%) vs. Latitude Linear Regression"
   ]
  },
  {
   "cell_type": "code",
   "execution_count": 20,
   "metadata": {},
   "outputs": [
    {
     "name": "stdout",
     "output_type": "stream",
     "text": [
      "the p value is 0.011976591071997222 and the r value is 0.1958136959310225\n"
     ]
    },
    {
     "data": {
      "image/png": "[encoded data removed]",
      "text/plain": [
       "<Figure size 432x288 with 1 Axes>"
      ]
     },
     "metadata": {
      "needs_background": "light"
     },
     "output_type": "display_data"
    }
   ],
   "source": [
    "(slope, intercept, rvalue, pvalue, stderr) = linregress(south_df['Latitude'], south_df['Cloudiness'])\n",
    "regress_values = south_df['Latitude']*slope + intercept\n",
    "line_eq = \"y = \" + str(round(slope,4)) + \"x + \" + str(round(intercept,4))\n",
    "\n",
    "plt.scatter(south_df['Latitude'],south_df['Cloudiness'])\n",
    "plt.plot(south_df['Latitude'],regress_values,\"r-\")\n",
    "plt.annotate(line_eq,xy=(-50,20),fontsize=12,color=\"red\")\n",
    "plt.xlabel(\"Latitude\")\n",
    "plt.ylabel(\"Cloudiness\")\n",
    "plt.savefig('output_data/reg6')\n",
    "print(f'the p value is {pvalue} and the r value is {rvalue}')"
   ]
  },
  {
   "cell_type": "markdown",
   "metadata": {},
   "source": [
    "####  Northern Hemisphere - Wind Speed (mph) vs. Latitude Linear Regression"
   ]
  },
  {
   "cell_type": "code",
   "execution_count": 21,
   "metadata": {},
   "outputs": [
    {
     "name": "stdout",
     "output_type": "stream",
     "text": [
      "the p value is 0.02250092142788959 and the r value is 0.12057845309891588\n"
     ]
    },
    {
     "data": {
      "image/png": "[encoded data removed]",
      "text/plain": [
       "<Figure size 432x288 with 1 Axes>"
      ]
     },
     "metadata": {
      "needs_background": "light"
     },
     "output_type": "display_data"
    }
   ],
   "source": [
    "(slope, intercept, rvalue, pvalue, stderr) = linregress(north_df['Latitude'], north_df['Wind Speed'])\n",
    "regress_values = north_df['Latitude']*slope + intercept\n",
    "line_eq = \"y = \" + str(round(slope,4)) + \"x + \" + str(round(intercept,4))\n",
    "\n",
    "plt.scatter(north_df['Latitude'],north_df['Wind Speed'])\n",
    "plt.plot(north_df['Latitude'],regress_values,\"r-\")\n",
    "plt.annotate(line_eq,xy=(3,13),fontsize=12,color=\"red\")\n",
    "plt.xlabel(\"Latitude\")\n",
    "plt.ylabel(\"Wind Speed\")\n",
    "plt.savefig('output_data/reg7')\n",
    "print(f'the p value is {pvalue} and the r value is {rvalue}')"
   ]
  },
  {
   "cell_type": "markdown",
   "metadata": {},
   "source": [
    "####  Southern Hemisphere - Wind Speed (mph) vs. Latitude Linear Regression"
   ]
  },
  {
   "cell_type": "code",
   "execution_count": 22,
   "metadata": {},
   "outputs": [
    {
     "name": "stdout",
     "output_type": "stream",
     "text": [
      "the p value is 0.643284243569915 and the r value is -0.036429590075220106\n"
     ]
    },
    {
     "data": {
      "image/png": "[encoded data removed]",
      "text/plain": [
       "<Figure size 432x288 with 1 Axes>"
      ]
     },
     "metadata": {
      "needs_background": "light"
     },
     "output_type": "display_data"
    }
   ],
   "source": [
    "(slope, intercept, rvalue, pvalue, stderr) = linregress(south_df['Latitude'], south_df['Wind Speed'])\n",
    "regress_values = south_df['Latitude']*slope + intercept\n",
    "line_eq = \"y = \" + str(round(slope,4)) + \"x + \" + str(round(intercept,4))\n",
    "\n",
    "plt.scatter(south_df['Latitude'],south_df['Wind Speed'])\n",
    "plt.plot(south_df['Latitude'],regress_values,\"r-\")\n",
    "plt.annotate(line_eq,xy=(-50,13),fontsize=12,color=\"red\")\n",
    "plt.xlabel(\"Latitude\")\n",
    "plt.ylabel(\"Wind Speed\")\n",
    "plt.savefig('output_data/reg8')\n",
    "print(f'the p value is {pvalue} and the r value is {rvalue}')"
   ]
  },
  {
   "cell_type": "code",
   "execution_count": null,
   "metadata": {},
   "outputs": [],
   "source": []
  }
 ],
 "metadata": {
  "anaconda-cloud": {},
  "kernel_info": {
   "name": "python3"
  },
  "kernelspec": {
   "display_name": "Python [conda env:pythondata] *",
   "language": "python",
   "name": "conda-env-pythondata-py"
  },
  "language_info": {
   "codemirror_mode": {
    "name": "ipython",
    "version": 3
   },
   "file_extension": ".py",
   "mimetype": "text/x-python",
   "name": "python",
   "nbconvert_exporter": "python",
   "pygments_lexer": "ipython3",
   "version": "3.6.10"
  },
  "latex_envs": {
   "LaTeX_envs_menu_present": true,
   "autoclose": false,
   "autocomplete": true,
   "bibliofile": "biblio.bib",
   "cite_by": "apalike",
   "current_citInitial": 1,
   "eqLabelWithNumbers": true,
   "eqNumInitial": 1,
   "hotkeys": {
    "equation": "Ctrl-E",
    "itemize": "Ctrl-I"
   },
   "labels_anchors": false,
   "latex_user_defs": false,
   "report_style_numbering": false,
   "user_envs_cfg": false
  },
  "nteract": {
   "version": "0.12.3"
  }
 },
 "nbformat": 4,
 "nbformat_minor": 2
}
