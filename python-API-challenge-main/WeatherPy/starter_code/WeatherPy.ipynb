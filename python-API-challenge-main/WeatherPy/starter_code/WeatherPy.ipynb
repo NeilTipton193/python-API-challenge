{
 "cells": [
  {
   "cell_type": "markdown",
   "metadata": {},
   "source": [
    "# WeatherPy\n",
    "----\n",
    "\n",
    "#### Note\n",
    "* Instructions have been included for each segment. You do not have to follow them exactly, but they are included to help you think through the steps."
   ]
  },
  {
   "cell_type": "code",
   "execution_count": 28,
   "metadata": {
    "scrolled": true
   },
   "outputs": [],
   "source": [
    "# Dependencies and Setup\n",
    "import matplotlib.pyplot as plt\n",
    "import pandas as pd\n",
    "import numpy as np\n",
    "import requests\n",
    "import time\n",
    "from ratelimit import limits\n",
    "from scipy.stats import linregress\n",
    "import random\n",
    "\n",
    "# Import API key\n",
    "from api_keys import weather_api_key\n",
    "\n",
    "# Incorporated citipy to determine city based on latitude and longitude\n",
    "from citipy import citipy\n",
    "\n",
    "# Output File (CSV)\n",
    "output_data_file = \"output_data/cities.csv\"\n",
    "\n",
    "# Range of latitudes and longitudes\n",
    "lat_range = (-90, 90)\n",
    "lng_range = (-180, 180)"
   ]
  },
  {
   "cell_type": "markdown",
   "metadata": {},
   "source": [
    "## Generate Cities List"
   ]
  },
  {
   "cell_type": "code",
   "execution_count": 29,
   "metadata": {},
   "outputs": [
    {
     "data": {
      "text/plain": [
       "621"
      ]
     },
     "execution_count": 29,
     "metadata": {},
     "output_type": "execute_result"
    }
   ],
   "source": [
    "# List for holding lat_lngs and cities\n",
    "lat_lngs = []\n",
    "cities = []\n",
    "\n",
    "# Create a set of random lat and lng combinations\n",
    "lats = np.random.uniform(lat_range[0], lat_range[1], size=1500)\n",
    "lngs = np.random.uniform(lng_range[0], lng_range[1], size=1500)\n",
    "lat_lngs = zip(lats, lngs)\n",
    "\n",
    "# Identify nearest city for each lat, lng combination\n",
    "for lat_lng in lat_lngs:\n",
    "    city = citipy.nearest_city(lat_lng[0], lat_lng[1]).city_name\n",
    "    \n",
    "    # If the city is unique, then add it to a our cities list\n",
    "    if city not in cities:\n",
    "        cities.append(city)\n",
    "\n",
    "# Print the city count to confirm sufficient count\n",
    "len(cities)"
   ]
  },
  {
   "cell_type": "markdown",
   "metadata": {},
   "source": [
    "### Perform API Calls\n",
    "* Perform a weather check on each city using a series of successive API calls.\n",
    "* Include a print log of each city as it'sbeing processed (with the city number and city name).\n",
    "\n",
    "> **HINT:** The OpenWeatherMap API only allows 60 calls per minute under their free plan. Try using `time.sleep(60)` after each set of 50 cities to avoid API errors due to large calls."
   ]
  },
  {
   "cell_type": "code",
   "execution_count": 30,
   "metadata": {
    "scrolled": true
   },
   "outputs": [
    {
     "name": "stdout",
     "output_type": "stream",
     "text": [
      "Retrieving data for city 1 in set 1. City: Lebu\n",
      "Retrieving data for city 2 in set 1. City: Laguna\n",
      "Retrieving data for city 3 in set 1. City: Goderich\n",
      "Retrieving data for city 4 in set 1. City: Maniitsoq\n",
      "Retrieving data for city 5 in set 1. City: Klaksvík\n",
      "Retrieving data for city 6 in set 1. City: Broken Hill\n",
      "Retrieving data for city 7 in set 1. City: Jamestown\n",
      "Retrieving data for city 8 in set 1. City: Ixtapa\n",
      "Retrieving data for city 9 in set 1. City: Rawson\n",
      "Retrieving data for city 10 in set 1. City: Nuuk\n",
      "Retrieving data for city 11 in set 1. City: Safford\n",
      "Retrieving data for city 12 in set 1. City: Busselton\n",
      "Retrieving data for city 13 in set 1. City: Grindavik\n",
      "Retrieving data for city 14 in set 1. City: Butaritari\n",
      "Retrieving data for city 15 in set 1. City: La Ronge\n",
      "Retrieving data for city 16 in set 1. City: East London\n",
      "Retrieving data for city 17 in set 1. City: Lázaro Cárdenas\n",
      "Retrieving data for city 18 in set 1. City: Atuona\n",
      "Retrieving data for city 19 in set 1. City: Lagoa\n",
      "Retrieving data for city 20 in set 1. City: Rikitea\n",
      "Retrieving data for city 21 in set 1. City: Cape Town\n",
      "Retrieving data for city 22 in set 1. City: Upington\n",
      "Retrieving data for city 23 in set 1. City: Torbay\n",
      "Retrieving data for city 24 in set 1. City: Norman Wells\n",
      "Retrieving data for city 25 in set 1. City: Monrovia\n",
      "Retrieving data for city 26 in set 1. City: Barrow\n",
      "Retrieving data for city 27 in set 1. City: Hobart\n",
      "Retrieving data for city 28 in set 1. City: Saldanha\n",
      "Retrieving data for city 29 in set 1. City: Araouane\n",
      "Retrieving data for city 30 in set 1. City: Talnakh\n",
      "Retrieving data for city 31 in set 1. City: Povolzhskiy\n",
      "Retrieving data for city 32 in set 1. City: Qian’an\n",
      "Retrieving data for city 33 in set 1. City: Talara\n",
      "Retrieving data for city 34 in set 1. City: Cockburn Town\n",
      "Retrieving data for city 35 in set 1. City: Narsaq\n",
      "Retrieving data for city 36 in set 1. City: Roald\n",
      "Retrieving data for city 37 in set 1. City: Avarua\n",
      "Retrieving data for city 38 in set 1. City: Isla Mujeres\n",
      "Retrieving data for city 39 in set 1. City: San Juan del Cesar\n",
      "Retrieving data for city 40 in set 1. City: Ushuaia\n",
      "Missing data for this city, skipping to next\n",
      "Retrieving data for city 41 in set 1. City: Saint George\n",
      "Retrieving data for city 42 in set 1. City: Lagunas\n",
      "Missing data for this city, skipping to next\n",
      "Retrieving data for city 43 in set 1. City: Hong Kong\n",
      "Retrieving data for city 44 in set 1. City: Tiksi\n",
      "Retrieving data for city 45 in set 1. City: Kumul\n",
      "Retrieving data for city 46 in set 1. City: Albany\n",
      "Retrieving data for city 47 in set 1. City: Port Alfred\n",
      "Retrieving data for city 48 in set 1. City: Prince Rupert\n",
      "Retrieving data for city 49 in set 1. City: Arraial do Cabo\n",
      "Retrieving data for city 50 in set 1. City: Shimoda\n",
      "Retrieving data for city 1 in set 2. City: Sibut\n",
      "Retrieving data for city 2 in set 2. City: Yaan\n",
      "Missing data for this city, skipping to next\n",
      "Retrieving data for city 3 in set 2. City: Mar del Plata\n",
      "Retrieving data for city 4 in set 2. City: Matara\n",
      "Retrieving data for city 5 in set 2. City: Bluff\n",
      "Retrieving data for city 6 in set 2. City: Tashtagol\n",
      "Retrieving data for city 7 in set 2. City: Bethel\n",
      "Retrieving data for city 8 in set 2. City: Bredasdorp\n",
      "Retrieving data for city 9 in set 2. City: Punta Arenas\n",
      "Retrieving data for city 10 in set 2. City: Guamúchil\n",
      "Retrieving data for city 11 in set 2. City: Muros\n",
      "Retrieving data for city 12 in set 2. City: Matagami\n",
      "Retrieving data for city 13 in set 2. City: Kinsale\n",
      "Retrieving data for city 14 in set 2. City: Valparaíso\n",
      "Retrieving data for city 15 in set 2. City: Kontagora\n",
      "Retrieving data for city 16 in set 2. City: Kapit\n",
      "Retrieving data for city 17 in set 2. City: Leh\n",
      "Retrieving data for city 18 in set 2. City: Gympie\n",
      "Retrieving data for city 19 in set 2. City: Puerto Ayora\n",
      "Retrieving data for city 20 in set 2. City: Bougouni\n",
      "Retrieving data for city 21 in set 2. City: Vila Franca do Campo\n",
      "Retrieving data for city 22 in set 2. City: Dicabisagan\n",
      "Retrieving data for city 23 in set 2. City: Dinājpur\n",
      "Retrieving data for city 24 in set 2. City: Naze\n",
      "Retrieving data for city 25 in set 2. City: Airai\n",
      "Retrieving data for city 26 in set 2. City: West Plains\n",
      "Missing data for this city, skipping to next\n",
      "Retrieving data for city 27 in set 2. City: Córdoba\n",
      "Retrieving data for city 28 in set 2. City: Yellowknife\n",
      "Retrieving data for city 29 in set 2. City: Taksimo\n",
      "Missing data for this city, skipping to next\n",
      "Retrieving data for city 30 in set 2. City: Dikson\n",
      "Retrieving data for city 31 in set 2. City: Mataura\n",
      "Retrieving data for city 32 in set 2. City: Mountain Home\n",
      "Retrieving data for city 33 in set 2. City: Moctezuma\n",
      "Retrieving data for city 34 in set 2. City: Castro\n",
      "Retrieving data for city 35 in set 2. City: Moranbah\n",
      "Retrieving data for city 36 in set 2. City: Karratha\n",
      "Retrieving data for city 37 in set 2. City: Bambanglipuro\n",
      "Missing data for this city, skipping to next\n",
      "Retrieving data for city 38 in set 2. City: Pangnirtung\n",
      "Retrieving data for city 39 in set 2. City: Aseri\n",
      "Retrieving data for city 40 in set 2. City: Kodinsk\n",
      "Retrieving data for city 41 in set 2. City: Ahipara\n",
      "Retrieving data for city 42 in set 2. City: Petersburg\n",
      "Retrieving data for city 43 in set 2. City: Olinda\n",
      "Retrieving data for city 44 in set 2. City: Okhotsk\n",
      "Retrieving data for city 45 in set 2. City: Curuçá\n",
      "Retrieving data for city 46 in set 2. City: Norden\n",
      "Retrieving data for city 47 in set 2. City: Nara\n",
      "Retrieving data for city 48 in set 2. City: Hilo\n",
      "Retrieving data for city 49 in set 2. City: Provideniya\n",
      "Retrieving data for city 50 in set 2. City: Hofn\n",
      "Retrieving data for city 1 in set 3. City: Vaini\n",
      "Retrieving data for city 2 in set 3. City: Salalah\n",
      "Retrieving data for city 3 in set 3. City: Khovd\n",
      "Missing data for this city, skipping to next\n",
      "Retrieving data for city 4 in set 3. City: Kholodnyy\n",
      "Retrieving data for city 5 in set 3. City: Snezhnogorsk\n",
      "Retrieving data for city 6 in set 3. City: Qaanaaq\n",
      "Retrieving data for city 7 in set 3. City: Kavaratti\n",
      "Retrieving data for city 8 in set 3. City: Bishoftu\n",
      "Retrieving data for city 9 in set 3. City: Pandan\n",
      "Retrieving data for city 10 in set 3. City: Geraldton\n",
      "Retrieving data for city 11 in set 3. City: Kargat\n",
      "Retrieving data for city 12 in set 3. City: San Sebastian\n",
      "Retrieving data for city 13 in set 3. City: Playas\n",
      "Retrieving data for city 14 in set 3. City: Dingle\n",
      "Retrieving data for city 15 in set 3. City: Bambous Virieux\n",
      "Retrieving data for city 16 in set 3. City: Beringovskiy\n",
      "Retrieving data for city 17 in set 3. City: Chui\n",
      "Retrieving data for city 18 in set 3. City: New Norfolk\n",
      "Missing data for this city, skipping to next\n",
      "Retrieving data for city 19 in set 3. City: Talaya\n",
      "Retrieving data for city 20 in set 3. City: Muscat\n",
      "Retrieving data for city 21 in set 3. City: Tasiilaq\n",
      "Retrieving data for city 22 in set 3. City: Montrose\n",
      "Retrieving data for city 23 in set 3. City: Qeshm\n",
      "Retrieving data for city 24 in set 3. City: Arecibo\n",
      "Missing data for this city, skipping to next\n",
      "Retrieving data for city 25 in set 3. City: Saskylakh\n",
      "Retrieving data for city 26 in set 3. City: Ishigaki\n",
      "Retrieving data for city 27 in set 3. City: Carlsbad\n",
      "Retrieving data for city 28 in set 3. City: Hualmay\n",
      "Retrieving data for city 29 in set 3. City: Rosetta\n",
      "Missing data for this city, skipping to next\n",
      "Missing data for this city, skipping to next\n",
      "Retrieving data for city 30 in set 3. City: Labuhan\n",
      "Retrieving data for city 31 in set 3. City: Quesnel\n",
      "Retrieving data for city 32 in set 3. City: Ca Mau\n",
      "Retrieving data for city 33 in set 3. City: Kapaa\n",
      "Retrieving data for city 34 in set 3. City: Chokurdakh\n",
      "Missing data for this city, skipping to next\n",
      "Retrieving data for city 35 in set 3. City: Upernavik\n",
      "Retrieving data for city 36 in set 3. City: Oriximiná\n",
      "Retrieving data for city 37 in set 3. City: Wajid\n",
      "Retrieving data for city 38 in set 3. City: Forio\n",
      "Retrieving data for city 39 in set 3. City: Ancud\n",
      "Retrieving data for city 40 in set 3. City: Grand Gaube\n",
      "Retrieving data for city 41 in set 3. City: Nikolskoye\n",
      "Retrieving data for city 42 in set 3. City: Tuli\n",
      "Retrieving data for city 43 in set 3. City: Tuktoyaktuk\n",
      "Retrieving data for city 44 in set 3. City: Cap Malheureux\n",
      "Retrieving data for city 45 in set 3. City: Sakakah\n",
      "Retrieving data for city 46 in set 3. City: Kutum\n",
      "Missing data for this city, skipping to next\n"
     ]
    },
    {
     "name": "stdout",
     "output_type": "stream",
     "text": [
      "Retrieving data for city 47 in set 3. City: Peterhead\n",
      "Retrieving data for city 48 in set 3. City: São Gabriel da Cachoeira\n",
      "Retrieving data for city 49 in set 3. City: Rocky Mountain House\n",
      "Retrieving data for city 50 in set 3. City: ‘Ewa Beach\n",
      "Retrieving data for city 1 in set 4. City: Hasaki\n",
      "Retrieving data for city 2 in set 4. City: Fukuechō\n",
      "Retrieving data for city 3 in set 4. City: Makakilo City\n",
      "Retrieving data for city 4 in set 4. City: Longyearbyen\n",
      "Retrieving data for city 5 in set 4. City: Kouango\n",
      "Retrieving data for city 6 in set 4. City: Aykhal\n",
      "Retrieving data for city 7 in set 4. City: Lorengau\n",
      "Retrieving data for city 8 in set 4. City: Maroantsetra\n",
      "Retrieving data for city 9 in set 4. City: Yulara\n",
      "Retrieving data for city 10 in set 4. City: Beloha\n",
      "Retrieving data for city 11 in set 4. City: Heihe\n",
      "Retrieving data for city 12 in set 4. City: Shelopugino\n",
      "Retrieving data for city 13 in set 4. City: Ponta do Sol\n",
      "Retrieving data for city 14 in set 4. City: Lüderitz\n",
      "Retrieving data for city 15 in set 4. City: Allanridge\n",
      "Retrieving data for city 16 in set 4. City: Paamiut\n",
      "Retrieving data for city 17 in set 4. City: Laas\n",
      "Retrieving data for city 18 in set 4. City: Hermanus\n",
      "Retrieving data for city 19 in set 4. City: Ulladulla\n",
      "Retrieving data for city 20 in set 4. City: Sorong\n",
      "Retrieving data for city 21 in set 4. City: Nchelenge\n",
      "Retrieving data for city 22 in set 4. City: Touros\n",
      "Retrieving data for city 23 in set 4. City: Port Blair\n",
      "Retrieving data for city 24 in set 4. City: Mandalgovi\n",
      "Retrieving data for city 25 in set 4. City: Komono\n",
      "Retrieving data for city 26 in set 4. City: Tautira\n",
      "Missing data for this city, skipping to next\n",
      "Retrieving data for city 27 in set 4. City: Mahébourg\n",
      "Retrieving data for city 28 in set 4. City: Mossamedes\n",
      "Retrieving data for city 29 in set 4. City: Choya\n",
      "Retrieving data for city 30 in set 4. City: Nelson Bay\n",
      "Retrieving data for city 31 in set 4. City: Buala\n",
      "Retrieving data for city 32 in set 4. City: Manono\n",
      "Retrieving data for city 33 in set 4. City: Isangel\n",
      "Retrieving data for city 34 in set 4. City: Samarai\n",
      "Retrieving data for city 35 in set 4. City: Ilulissat\n",
      "Retrieving data for city 36 in set 4. City: Sisimiut\n",
      "Retrieving data for city 37 in set 4. City: Belaya Gora\n",
      "Retrieving data for city 38 in set 4. City: Pevek\n",
      "Retrieving data for city 39 in set 4. City: São Filipe\n",
      "Retrieving data for city 40 in set 4. City: Hithadhoo\n",
      "Retrieving data for city 41 in set 4. City: Touba\n",
      "Retrieving data for city 42 in set 4. City: Bosaso\n",
      "Retrieving data for city 43 in set 4. City: Bonnyville\n",
      "Retrieving data for city 44 in set 4. City: Saint-Philippe\n",
      "Missing data for this city, skipping to next\n",
      "Retrieving data for city 45 in set 4. City: George Town\n",
      "Retrieving data for city 46 in set 4. City: Itoman\n",
      "Retrieving data for city 47 in set 4. City: Vallenar\n",
      "Retrieving data for city 48 in set 4. City: Tura\n",
      "Missing data for this city, skipping to next\n",
      "Retrieving data for city 49 in set 4. City: Gīdolē\n",
      "Missing data for this city, skipping to next\n",
      "Retrieving data for city 50 in set 4. City: Khatanga\n",
      "Retrieving data for city 1 in set 5. City: Anadyr\n",
      "Retrieving data for city 2 in set 5. City: Waipawa\n",
      "Missing data for this city, skipping to next\n",
      "Retrieving data for city 3 in set 5. City: Nanortalik\n",
      "Retrieving data for city 4 in set 5. City: San Juan del Sur\n",
      "Retrieving data for city 5 in set 5. City: Salina\n",
      "Retrieving data for city 6 in set 5. City: Kobryn\n",
      "Retrieving data for city 7 in set 5. City: Lixouri\n",
      "Retrieving data for city 8 in set 5. City: Mackay\n",
      "Retrieving data for city 9 in set 5. City: Vanderhoof\n",
      "Retrieving data for city 10 in set 5. City: Half Moon Bay\n",
      "Retrieving data for city 11 in set 5. City: Marawi\n",
      "Missing data for this city, skipping to next\n",
      "Missing data for this city, skipping to next\n",
      "Retrieving data for city 12 in set 5. City: Tal'menka\n",
      "Retrieving data for city 13 in set 5. City: Kelapa Sawit\n",
      "Missing data for this city, skipping to next\n",
      "Retrieving data for city 14 in set 5. City: Vanimo\n",
      "Retrieving data for city 15 in set 5. City: Carnarvon\n",
      "Retrieving data for city 16 in set 5. City: Guerrero Negro\n",
      "Missing data for this city, skipping to next\n",
      "Retrieving data for city 17 in set 5. City: Aracati\n",
      "Retrieving data for city 18 in set 5. City: Kavieng\n",
      "Retrieving data for city 19 in set 5. City: Coyhaique\n",
      "Retrieving data for city 20 in set 5. City: Maxixe\n",
      "Missing data for this city, skipping to next\n",
      "Retrieving data for city 21 in set 5. City: Slyudyanka\n",
      "Retrieving data for city 22 in set 5. City: Acapulco de Juárez\n",
      "Missing data for this city, skipping to next\n",
      "Missing data for this city, skipping to next\n",
      "Retrieving data for city 23 in set 5. City: Champerico\n",
      "Retrieving data for city 24 in set 5. City: Katobu\n",
      "Retrieving data for city 25 in set 5. City: Ambilobe\n",
      "Missing data for this city, skipping to next\n",
      "Retrieving data for city 26 in set 5. City: Port Hardy\n",
      "Retrieving data for city 27 in set 5. City: Bilibino\n",
      "Retrieving data for city 28 in set 5. City: São Borja\n",
      "Retrieving data for city 29 in set 5. City: Bathsheba\n",
      "Retrieving data for city 30 in set 5. City: Aklavik\n",
      "Retrieving data for city 31 in set 5. City: Faanui\n",
      "Retrieving data for city 32 in set 5. City: Saint Paul Harbor\n",
      "Retrieving data for city 33 in set 5. City: Port Lincoln\n",
      "Retrieving data for city 34 in set 5. City: Altamira\n",
      "Retrieving data for city 35 in set 5. City: Nanyamba\n",
      "Missing data for this city, skipping to next\n",
      "Missing data for this city, skipping to next\n",
      "Retrieving data for city 36 in set 5. City: Taree\n",
      "Retrieving data for city 37 in set 5. City: Mayo\n",
      "Retrieving data for city 38 in set 5. City: Maniwaki\n",
      "Retrieving data for city 39 in set 5. City: Severo-Yeniseyskiy\n",
      "Retrieving data for city 40 in set 5. City: Kamaishi\n",
      "Retrieving data for city 41 in set 5. City: Namwala\n",
      "Retrieving data for city 42 in set 5. City: Nueva Rosita\n",
      "Retrieving data for city 43 in set 5. City: Ereymentau\n",
      "Missing data for this city, skipping to next\n",
      "Missing data for this city, skipping to next\n",
      "Retrieving data for city 44 in set 5. City: Kiryat Gat\n",
      "Retrieving data for city 45 in set 5. City: Maceió\n",
      "Retrieving data for city 46 in set 5. City: Eresós\n",
      "Retrieving data for city 47 in set 5. City: Boddam\n",
      "Retrieving data for city 48 in set 5. City: Alofi\n",
      "Retrieving data for city 49 in set 5. City: Teahupoo\n",
      "Retrieving data for city 50 in set 5. City: Parkes\n",
      "Retrieving data for city 1 in set 6. City: Moussoro\n",
      "Retrieving data for city 2 in set 6. City: Henties Bay\n",
      "Retrieving data for city 3 in set 6. City: Bengkulu\n",
      "Retrieving data for city 4 in set 6. City: Fairbanks\n",
      "Missing data for this city, skipping to next\n",
      "Retrieving data for city 5 in set 6. City: Clyde River\n",
      "Retrieving data for city 6 in set 6. City: Belyy Yar\n",
      "Retrieving data for city 7 in set 6. City: Severo-Kuril'sk\n",
      "Retrieving data for city 8 in set 6. City: Honiara\n",
      "Retrieving data for city 9 in set 6. City: Adrar\n",
      "Retrieving data for city 10 in set 6. City: Zaokskiy\n",
      "Retrieving data for city 11 in set 6. City: Sitka\n",
      "Retrieving data for city 12 in set 6. City: Bagan\n",
      "Retrieving data for city 13 in set 6. City: Soe\n",
      "Retrieving data for city 14 in set 6. City: Praia da Vitória\n",
      "Retrieving data for city 15 in set 6. City: Tabou\n",
      "Retrieving data for city 16 in set 6. City: Sabha\n",
      "Retrieving data for city 17 in set 6. City: Te Anau\n",
      "Retrieving data for city 18 in set 6. City: Winslow\n",
      "Retrieving data for city 19 in set 6. City: Sakaiminato\n",
      "Retrieving data for city 20 in set 6. City: Aldan\n",
      "Retrieving data for city 21 in set 6. City: Lexington\n",
      "Retrieving data for city 22 in set 6. City: College\n",
      "Retrieving data for city 23 in set 6. City: Bilma\n",
      "Retrieving data for city 24 in set 6. City: Charagua\n",
      "Retrieving data for city 25 in set 6. City: Thompson\n",
      "Retrieving data for city 26 in set 6. City: Dombarovskiy\n",
      "Retrieving data for city 27 in set 6. City: Kurchum\n",
      "Retrieving data for city 28 in set 6. City: Ossora\n",
      "Retrieving data for city 29 in set 6. City: Tumbagaan\n",
      "Retrieving data for city 30 in set 6. City: Ferrol\n",
      "Retrieving data for city 31 in set 6. City: Port Dickson\n",
      "Retrieving data for city 32 in set 6. City: São João da Barra\n",
      "Retrieving data for city 33 in set 6. City: Cayenne\n",
      "Retrieving data for city 34 in set 6. City: Esperance\n",
      "Retrieving data for city 35 in set 6. City: Bellefontaine\n"
     ]
    },
    {
     "name": "stdout",
     "output_type": "stream",
     "text": [
      "Retrieving data for city 36 in set 6. City: Saint-Joseph\n",
      "Retrieving data for city 37 in set 6. City: Kloulklubed\n",
      "Retrieving data for city 38 in set 6. City: Turukhansk\n",
      "Retrieving data for city 39 in set 6. City: Krasnosel'kup\n",
      "Retrieving data for city 40 in set 6. City: Souillac\n",
      "Retrieving data for city 41 in set 6. City: Tromsø\n",
      "Retrieving data for city 42 in set 6. City: Changqing\n",
      "Retrieving data for city 43 in set 6. City: Zholymbet\n",
      "Retrieving data for city 44 in set 6. City: Andros Town\n",
      "Retrieving data for city 45 in set 6. City: Mehamn\n",
      "Retrieving data for city 46 in set 6. City: Ponta Delgada\n",
      "Retrieving data for city 47 in set 6. City: Cidreira\n",
      "Retrieving data for city 48 in set 6. City: Ayan\n",
      "Missing data for this city, skipping to next\n",
      "Retrieving data for city 49 in set 6. City: Umluj\n",
      "Retrieving data for city 50 in set 6. City: Martinsburg\n",
      "Retrieving data for city 1 in set 7. City: Rocha\n",
      "Missing data for this city, skipping to next\n",
      "Retrieving data for city 2 in set 7. City: Balkhash\n",
      "Retrieving data for city 3 in set 7. City: Lichuan\n",
      "Retrieving data for city 4 in set 7. City: Lompoc\n",
      "Retrieving data for city 5 in set 7. City: Vypolzovo\n",
      "Retrieving data for city 6 in set 7. City: Oktyabr'skiy\n",
      "Retrieving data for city 7 in set 7. City: Nioro\n",
      "Retrieving data for city 8 in set 7. City: Puerto Escondido\n",
      "Retrieving data for city 9 in set 7. City: Muzhi\n",
      "Retrieving data for city 10 in set 7. City: Cherskiy\n",
      "Retrieving data for city 11 in set 7. City: Flinders\n",
      "Retrieving data for city 12 in set 7. City: Porto-Novo\n",
      "Retrieving data for city 13 in set 7. City: Tiruchchendur\n",
      "Retrieving data for city 14 in set 7. City: Melfort\n",
      "Retrieving data for city 15 in set 7. City: Doha\n",
      "Retrieving data for city 16 in set 7. City: Aquidauana\n",
      "Retrieving data for city 17 in set 7. City: Katherine\n",
      "Retrieving data for city 18 in set 7. City: Vestmannaeyjar\n",
      "Retrieving data for city 19 in set 7. City: Necochea\n",
      "Retrieving data for city 20 in set 7. City: Katsuura\n",
      "Retrieving data for city 21 in set 7. City: At-Bashi\n",
      "Retrieving data for city 22 in set 7. City: Darhan\n",
      "Retrieving data for city 23 in set 7. City: Saint-Pierre\n",
      "Missing data for this city, skipping to next\n",
      "Retrieving data for city 24 in set 7. City: Zeya\n",
      "Retrieving data for city 25 in set 7. City: Distrikt Brokopondo\n",
      "Missing data for this city, skipping to next\n",
      "Retrieving data for city 26 in set 7. City: Rancho Palos Verdes\n",
      "Retrieving data for city 27 in set 7. City: Padilla\n",
      "Retrieving data for city 28 in set 7. City: Comitán\n",
      "Retrieving data for city 29 in set 7. City: Antonio Escobedo\n",
      "Retrieving data for city 30 in set 7. City: Ginir\n",
      "Retrieving data for city 31 in set 7. City: Deputatsky\n",
      "Retrieving data for city 32 in set 7. City: Leningradskiy\n",
      "Retrieving data for city 33 in set 7. City: Fortuna\n",
      "Missing data for this city, skipping to next\n",
      "Retrieving data for city 34 in set 7. City: Merke\n",
      "Retrieving data for city 35 in set 7. City: Magugu\n",
      "Retrieving data for city 36 in set 7. City: Lovozero\n",
      "Retrieving data for city 37 in set 7. City: Calgary\n",
      "Retrieving data for city 38 in set 7. City: Llano de Piedra\n",
      "Retrieving data for city 39 in set 7. City: Impfondo\n",
      "Retrieving data for city 40 in set 7. City: Atar\n",
      "Retrieving data for city 41 in set 7. City: Sol'-Iletsk\n",
      "Retrieving data for city 42 in set 7. City: L'govskiy\n",
      "Retrieving data for city 43 in set 7. City: Saginaw\n",
      "Retrieving data for city 44 in set 7. City: Bama\n",
      "Retrieving data for city 45 in set 7. City: Hokitika\n",
      "Retrieving data for city 46 in set 7. City: Disna\n",
      "Retrieving data for city 47 in set 7. City: Grand-Santi\n",
      "Retrieving data for city 48 in set 7. City: Toro\n",
      "Retrieving data for city 49 in set 7. City: Polunochnoye\n",
      "Retrieving data for city 50 in set 7. City: Tūkrah\n",
      "Retrieving data for city 1 in set 8. City: Nabire\n",
      "Retrieving data for city 2 in set 8. City: Yerbogachën\n",
      "Retrieving data for city 3 in set 8. City: Ous\n",
      "Retrieving data for city 4 in set 8. City: Troitskoye\n",
      "Retrieving data for city 5 in set 8. City: Sarangani\n",
      "Retrieving data for city 6 in set 8. City: Kununurra\n",
      "Retrieving data for city 7 in set 8. City: Codrington\n",
      "Retrieving data for city 8 in set 8. City: Baoning\n",
      "Retrieving data for city 9 in set 8. City: Saucillo\n",
      "Retrieving data for city 10 in set 8. City: Beijing\n",
      "Retrieving data for city 11 in set 8. City: Nyköping\n",
      "Retrieving data for city 12 in set 8. City: Lubao\n",
      "Retrieving data for city 13 in set 8. City: Manjakandriana\n",
      "Retrieving data for city 14 in set 8. City: Cururupu\n",
      "Retrieving data for city 15 in set 8. City: San-Pédro\n",
      "Retrieving data for city 16 in set 8. City: Tevriz\n",
      "Retrieving data for city 17 in set 8. City: Mayumba\n",
      "Retrieving data for city 18 in set 8. City: Kieta\n",
      "Missing data for this city, skipping to next\n",
      "Retrieving data for city 19 in set 8. City: Taoudenni\n",
      "Retrieving data for city 20 in set 8. City: Sibolga\n",
      "Retrieving data for city 21 in set 8. City: Guilin\n",
      "Retrieving data for city 22 in set 8. City: Saint-Louis\n",
      "Retrieving data for city 23 in set 8. City: Turaif\n",
      "Retrieving data for city 24 in set 8. City: Calvinia\n",
      "Retrieving data for city 25 in set 8. City: Xinzhi\n",
      "Missing data for this city, skipping to next\n",
      "Retrieving data for city 26 in set 8. City: Nemuro\n",
      "Retrieving data for city 27 in set 8. City: Benguela\n",
      "Retrieving data for city 28 in set 8. City: Aswān\n",
      "Retrieving data for city 29 in set 8. City: Vostok\n",
      "Retrieving data for city 30 in set 8. City: Al Bardīyah\n",
      "Retrieving data for city 31 in set 8. City: Mandiana\n",
      "Retrieving data for city 32 in set 8. City: Tezu\n",
      "Missing data for this city, skipping to next\n",
      "Retrieving data for city 33 in set 8. City: Oruzgan\n",
      "Retrieving data for city 34 in set 8. City: Bintulu\n",
      "Retrieving data for city 35 in set 8. City: Vardø\n",
      "Retrieving data for city 36 in set 8. City: Oktyabr'skoye\n",
      "Retrieving data for city 37 in set 8. City: Plettenberg Bay\n",
      "Retrieving data for city 38 in set 8. City: Vilcún\n",
      "Retrieving data for city 39 in set 8. City: Bridlington\n",
      "Missing data for this city, skipping to next\n",
      "Retrieving data for city 40 in set 8. City: Haldensleben I\n",
      "Retrieving data for city 41 in set 8. City: Ribeira Grande\n",
      "Retrieving data for city 42 in set 8. City: Lodja\n",
      "Retrieving data for city 43 in set 8. City: Sinnamary\n",
      "Retrieving data for city 44 in set 8. City: Navolato\n",
      "Retrieving data for city 45 in set 8. City: Quattro Castella\n",
      "Retrieving data for city 46 in set 8. City: Kapustin Yar\n",
      "Retrieving data for city 47 in set 8. City: Marapanim\n",
      "Retrieving data for city 48 in set 8. City: Biak\n",
      "Retrieving data for city 49 in set 8. City: Alice Springs\n",
      "Retrieving data for city 50 in set 8. City: Saint-Augustin\n",
      "Retrieving data for city 1 in set 9. City: Rome\n",
      "Retrieving data for city 2 in set 9. City: Abhā\n",
      "Retrieving data for city 3 in set 9. City: Danjiangkou\n",
      "Retrieving data for city 4 in set 9. City: Manavālakurichi\n",
      "Retrieving data for city 5 in set 9. City: Waddān\n",
      "Retrieving data for city 6 in set 9. City: Zaykovo\n",
      "Retrieving data for city 7 in set 9. City: Gravdal\n",
      "Missing data for this city, skipping to next\n",
      "Retrieving data for city 8 in set 9. City: Avera\n",
      "Retrieving data for city 9 in set 9. City: Rauma\n",
      "Retrieving data for city 10 in set 9. City: Kimbe\n",
      "Retrieving data for city 11 in set 9. City: Campbell River\n",
      "Retrieving data for city 12 in set 9. City: Harper\n",
      "Retrieving data for city 13 in set 9. City: Oranjestad\n",
      "Retrieving data for city 14 in set 9. City: San Julián\n",
      "Retrieving data for city 15 in set 9. City: Cayambe\n",
      "Retrieving data for city 16 in set 9. City: Mahon\n",
      "Retrieving data for city 17 in set 9. City: Ostrovnoy\n",
      "Retrieving data for city 18 in set 9. City: Lavrentiya\n",
      "Retrieving data for city 19 in set 9. City: Basoko\n",
      "Retrieving data for city 20 in set 9. City: Jishou\n",
      "Retrieving data for city 21 in set 9. City: Pinega\n",
      "Retrieving data for city 22 in set 9. City: Iqaluit\n",
      "Retrieving data for city 23 in set 9. City: Acaraú\n",
      "Missing data for this city, skipping to next\n",
      "Missing data for this city, skipping to next\n",
      "Retrieving data for city 24 in set 9. City: Nouadhibou\n",
      "Missing data for this city, skipping to next\n",
      "Retrieving data for city 25 in set 9. City: Charleston\n",
      "Retrieving data for city 26 in set 9. City: Gadag\n",
      "Retrieving data for city 27 in set 9. City: Port Elizabeth\n",
      "Missing data for this city, skipping to next\n"
     ]
    },
    {
     "name": "stdout",
     "output_type": "stream",
     "text": [
      "Retrieving data for city 28 in set 9. City: Phan Thiet\n",
      "Retrieving data for city 29 in set 9. City: Portland\n",
      "Retrieving data for city 30 in set 9. City: Madang\n",
      "Retrieving data for city 31 in set 9. City: Constitución\n",
      "Retrieving data for city 32 in set 9. City: Whitehorse\n",
      "Retrieving data for city 33 in set 9. City: Pāvugada\n",
      "Retrieving data for city 34 in set 9. City: Pacific Grove\n",
      "Retrieving data for city 35 in set 9. City: Muswellbrook\n",
      "Retrieving data for city 36 in set 9. City: Novoasbest\n",
      "Retrieving data for city 37 in set 9. City: Miranda\n",
      "Retrieving data for city 38 in set 9. City: Martinsville\n",
      "Retrieving data for city 39 in set 9. City: Gladstone\n",
      "Retrieving data for city 40 in set 9. City: Uzhhorod\n",
      "Retrieving data for city 41 in set 9. City: Sioux Lookout\n",
      "Retrieving data for city 42 in set 9. City: Ibrā’\n",
      "Missing data for this city, skipping to next\n",
      "Retrieving data for city 43 in set 9. City: Makkah al Mukarramah\n",
      "Retrieving data for city 44 in set 9. City: Kamiiso\n",
      "Retrieving data for city 45 in set 9. City: Kruszwica\n",
      "Retrieving data for city 46 in set 9. City: Najrān\n",
      "Retrieving data for city 47 in set 9. City: Sept-Îles\n",
      "Retrieving data for city 48 in set 9. City: George\n",
      "Missing data for this city, skipping to next\n",
      "Missing data for this city, skipping to next\n",
      "Retrieving data for city 49 in set 9. City: Monticello\n",
      "Retrieving data for city 50 in set 9. City: Winnemucca\n",
      "Retrieving data for city 1 in set 10. City: Korla\n",
      "Retrieving data for city 2 in set 10. City: Husavik\n",
      "Retrieving data for city 3 in set 10. City: Santa Cruz de la Sierra\n",
      "Retrieving data for city 4 in set 10. City: Caravelas\n",
      "Retrieving data for city 5 in set 10. City: Rongcheng\n",
      "Retrieving data for city 6 in set 10. City: Itarema\n",
      "Retrieving data for city 7 in set 10. City: Marrakesh\n",
      "Retrieving data for city 8 in set 10. City: Kamenka\n",
      "Retrieving data for city 9 in set 10. City: Awjilah\n",
      "Retrieving data for city 10 in set 10. City: Cuamba\n",
      "Retrieving data for city 11 in set 10. City: Priiskovyy\n",
      "Retrieving data for city 12 in set 10. City: Kudahuvadhoo\n",
      "Retrieving data for city 13 in set 10. City: San Patricio\n",
      "Retrieving data for city 14 in set 10. City: Rio Verde de Mato Grosso\n",
      "Retrieving data for city 15 in set 10. City: Dunedin\n",
      "Retrieving data for city 16 in set 10. City: Nishihara\n",
      "Retrieving data for city 17 in set 10. City: Wieluń\n",
      "Retrieving data for city 18 in set 10. City: Verchères\n",
      "Retrieving data for city 19 in set 10. City: Likasi\n",
      "Retrieving data for city 20 in set 10. City: Hobyo\n",
      "Retrieving data for city 21 in set 10. City: Sirte\n",
      "Retrieving data for city 22 in set 10. City: Seoul\n",
      "Retrieving data for city 23 in set 10. City: Mitchell\n",
      "Retrieving data for city 24 in set 10. City: Pangody\n",
      "Retrieving data for city 25 in set 10. City: Shellbrook\n",
      "Retrieving data for city 26 in set 10. City: Pinhão\n",
      "Retrieving data for city 27 in set 10. City: Caucasia\n",
      "Retrieving data for city 28 in set 10. City: Margate\n",
      "Retrieving data for city 29 in set 10. City: Lichinga\n",
      "Retrieving data for city 30 in set 10. City: Vao\n",
      "Retrieving data for city 31 in set 10. City: Deep River\n",
      "Retrieving data for city 32 in set 10. City: Boa Vista\n",
      "Retrieving data for city 33 in set 10. City: Yakima\n",
      "Retrieving data for city 34 in set 10. City: Soyo\n",
      "Retrieving data for city 35 in set 10. City: Skellefteå\n",
      "Retrieving data for city 36 in set 10. City: Kaitangata\n",
      "Retrieving data for city 37 in set 10. City: Hamilton\n",
      "Missing data for this city, skipping to next\n",
      "Retrieving data for city 38 in set 10. City: Nuwara Eliya\n",
      "Retrieving data for city 39 in set 10. City: Kostanay\n",
      "Missing data for this city, skipping to next\n",
      "Retrieving data for city 40 in set 10. City: Mahon\n",
      "Retrieving data for city 41 in set 10. City: Udachny\n",
      "Retrieving data for city 42 in set 10. City: Bandarbeyla\n",
      "Retrieving data for city 43 in set 10. City: Luorong\n",
      "Retrieving data for city 44 in set 10. City: Nome\n",
      "Missing data for this city, skipping to next\n",
      "Retrieving data for city 45 in set 10. City: Liberal\n",
      "Retrieving data for city 46 in set 10. City: Cabedelo\n",
      "Retrieving data for city 47 in set 10. City: Strezhevoy\n",
      "Retrieving data for city 48 in set 10. City: Progreso\n",
      "Missing data for this city, skipping to next\n",
      "Retrieving data for city 49 in set 10. City: Pustoshka\n",
      "Retrieving data for city 50 in set 10. City: Abū Zabad\n",
      "Retrieving data for city 1 in set 11. City: Luganville\n",
      "Retrieving data for city 2 in set 11. City: Chupa\n",
      "Retrieving data for city 3 in set 11. City: Wajima\n",
      "Retrieving data for city 4 in set 11. City: Akdepe\n",
      "Retrieving data for city 5 in set 11. City: Kruisfontein\n",
      "Retrieving data for city 6 in set 11. City: Okha\n",
      "Retrieving data for city 7 in set 11. City: Fort Frances\n",
      "Missing data for this city, skipping to next\n",
      "Data collection complete!\n"
     ]
    }
   ],
   "source": [
    "#Set up URL\n",
    "\n",
    "url = \"http://api.openweathermap.org/data/2.5/weather?\"\n",
    "\n",
    "#Create dictionary to store data from API calls (example call shown at https://openweathermap.org/current#current_JSON)\n",
    "weather_dict= {\"City\": [],\"Country\": [], \"Latitude\": [],\n",
    "               \"Longitude\": [],\"Max Temperature\": [], \"Cloudiness\": [],\n",
    "               \"Wind Speed\": [],\"Humidity\": [],\"Date\": []}\n",
    "            \n",
    "#Create variables to assist in limiting call numbers\n",
    "call_num = 1\n",
    "set_num = 1\n",
    "\n",
    "#Randomly select 500 cities from the list:\n",
    "rand_cities = random.choices(cities, k=560)\n",
    "\n",
    "\n",
    "#For loop to iterate through cities and make API calls\n",
    "\n",
    "for i, city in enumerate(rand_cities):\n",
    "    query_url = url+\"appid=\"+weather_api_key+\"&q=\"+cities[i]\n",
    "    city = requests.get(query_url).json()\n",
    "    \n",
    "#Try statement to store complete data into dictionary\n",
    "    try:\n",
    "        weather_dict[\"City\"].append(city[\"name\"])\n",
    "        weather_dict[\"Country\"].append(city[\"sys\"][\"country\"])\n",
    "        weather_dict[\"Latitude\"].append(city[\"coord\"][\"lat\"])\n",
    "        weather_dict['Longitude'].append(city['coord']['lon'])\n",
    "        weather_dict['Max Temperature'].append(city[\"main\"][\"temp_max\"])\n",
    "        weather_dict['Cloudiness'].append(city[\"clouds\"][\"all\"])\n",
    "        weather_dict['Wind Speed'].append(city['wind']['speed'])\n",
    "        weather_dict['Humidity'].append(city['main']['humidity'])\n",
    "        weather_dict['Date'].append(city['dt'])\n",
    "        city_name=city[\"name\"]\n",
    "        \n",
    "        #Print statement with city number and city name for each city     \n",
    "        print(f\"Retrieving data for city {call_num} in set {set_num}. City: {city_name}\")            \n",
    "     \n",
    "       #iterate on call and set counters\n",
    "        if call_num == 50:\n",
    "            call_num = 1\n",
    "            set_num += 1\n",
    "            time.sleep(60)\n",
    "        else:\n",
    "            call_num +=1\n",
    "    \n",
    "    except: \n",
    "        print(\"Missing data for this city, skipping to next\")\n",
    "        pass\n",
    "    \n",
    "print(\"Data collection complete!\")\n"
   ]
  },
  {
   "cell_type": "markdown",
   "metadata": {},
   "source": [
    "### Convert Raw Data to DataFrame\n",
    "* Export the city data into a .csv.\n",
    "* Display the DataFrame"
   ]
  },
  {
   "cell_type": "code",
   "execution_count": 31,
   "metadata": {
    "scrolled": true
   },
   "outputs": [
    {
     "data": {
      "text/html": [
       "<div>\n",
       "<style scoped>\n",
       "    .dataframe tbody tr th:only-of-type {\n",
       "        vertical-align: middle;\n",
       "    }\n",
       "\n",
       "    .dataframe tbody tr th {\n",
       "        vertical-align: top;\n",
       "    }\n",
       "\n",
       "    .dataframe thead th {\n",
       "        text-align: right;\n",
       "    }\n",
       "</style>\n",
       "<table border=\"1\" class=\"dataframe\">\n",
       "  <thead>\n",
       "    <tr style=\"text-align: right;\">\n",
       "      <th></th>\n",
       "      <th>City</th>\n",
       "      <th>Country</th>\n",
       "      <th>Latitude</th>\n",
       "      <th>Longitude</th>\n",
       "      <th>Max Temperature</th>\n",
       "      <th>Cloudiness</th>\n",
       "      <th>Wind Speed</th>\n",
       "      <th>Humidity</th>\n",
       "      <th>Date</th>\n",
       "    </tr>\n",
       "  </thead>\n",
       "  <tbody>\n",
       "    <tr>\n",
       "      <th>0</th>\n",
       "      <td>Lebu</td>\n",
       "      <td>CL</td>\n",
       "      <td>-37.6167</td>\n",
       "      <td>-73.6500</td>\n",
       "      <td>291.41</td>\n",
       "      <td>34</td>\n",
       "      <td>4.77</td>\n",
       "      <td>77</td>\n",
       "      <td>1643832436</td>\n",
       "    </tr>\n",
       "    <tr>\n",
       "      <th>1</th>\n",
       "      <td>Laguna</td>\n",
       "      <td>US</td>\n",
       "      <td>38.4210</td>\n",
       "      <td>-121.4238</td>\n",
       "      <td>289.06</td>\n",
       "      <td>0</td>\n",
       "      <td>5.36</td>\n",
       "      <td>29</td>\n",
       "      <td>1643832756</td>\n",
       "    </tr>\n",
       "    <tr>\n",
       "      <th>2</th>\n",
       "      <td>Goderich</td>\n",
       "      <td>CA</td>\n",
       "      <td>43.7501</td>\n",
       "      <td>-81.7165</td>\n",
       "      <td>272.61</td>\n",
       "      <td>100</td>\n",
       "      <td>7.93</td>\n",
       "      <td>96</td>\n",
       "      <td>1643832357</td>\n",
       "    </tr>\n",
       "    <tr>\n",
       "      <th>3</th>\n",
       "      <td>Maniitsoq</td>\n",
       "      <td>GL</td>\n",
       "      <td>65.4167</td>\n",
       "      <td>-52.9000</td>\n",
       "      <td>256.35</td>\n",
       "      <td>100</td>\n",
       "      <td>8.12</td>\n",
       "      <td>82</td>\n",
       "      <td>1643832954</td>\n",
       "    </tr>\n",
       "    <tr>\n",
       "      <th>4</th>\n",
       "      <td>Klaksvík</td>\n",
       "      <td>FO</td>\n",
       "      <td>62.2266</td>\n",
       "      <td>-6.5890</td>\n",
       "      <td>278.66</td>\n",
       "      <td>100</td>\n",
       "      <td>3.43</td>\n",
       "      <td>82</td>\n",
       "      <td>1643832432</td>\n",
       "    </tr>\n",
       "    <tr>\n",
       "      <th>...</th>\n",
       "      <td>...</td>\n",
       "      <td>...</td>\n",
       "      <td>...</td>\n",
       "      <td>...</td>\n",
       "      <td>...</td>\n",
       "      <td>...</td>\n",
       "      <td>...</td>\n",
       "      <td>...</td>\n",
       "      <td>...</td>\n",
       "    </tr>\n",
       "    <tr>\n",
       "      <th>502</th>\n",
       "      <td>Wajima</td>\n",
       "      <td>JP</td>\n",
       "      <td>37.4000</td>\n",
       "      <td>136.9000</td>\n",
       "      <td>277.86</td>\n",
       "      <td>100</td>\n",
       "      <td>9.64</td>\n",
       "      <td>65</td>\n",
       "      <td>1643833685</td>\n",
       "    </tr>\n",
       "    <tr>\n",
       "      <th>503</th>\n",
       "      <td>Akdepe</td>\n",
       "      <td>TM</td>\n",
       "      <td>42.0551</td>\n",
       "      <td>59.3788</td>\n",
       "      <td>274.20</td>\n",
       "      <td>1</td>\n",
       "      <td>4.32</td>\n",
       "      <td>81</td>\n",
       "      <td>1643833685</td>\n",
       "    </tr>\n",
       "    <tr>\n",
       "      <th>504</th>\n",
       "      <td>Kruisfontein</td>\n",
       "      <td>ZA</td>\n",
       "      <td>-34.0033</td>\n",
       "      <td>24.7314</td>\n",
       "      <td>294.20</td>\n",
       "      <td>100</td>\n",
       "      <td>3.67</td>\n",
       "      <td>91</td>\n",
       "      <td>1643833686</td>\n",
       "    </tr>\n",
       "    <tr>\n",
       "      <th>505</th>\n",
       "      <td>Okha</td>\n",
       "      <td>RU</td>\n",
       "      <td>53.5739</td>\n",
       "      <td>142.9478</td>\n",
       "      <td>255.91</td>\n",
       "      <td>99</td>\n",
       "      <td>11.64</td>\n",
       "      <td>91</td>\n",
       "      <td>1643833686</td>\n",
       "    </tr>\n",
       "    <tr>\n",
       "      <th>506</th>\n",
       "      <td>Fort Frances</td>\n",
       "      <td>CA</td>\n",
       "      <td>48.5999</td>\n",
       "      <td>-93.4003</td>\n",
       "      <td>253.74</td>\n",
       "      <td>75</td>\n",
       "      <td>2.68</td>\n",
       "      <td>62</td>\n",
       "      <td>1643833686</td>\n",
       "    </tr>\n",
       "  </tbody>\n",
       "</table>\n",
       "<p>507 rows × 9 columns</p>\n",
       "</div>"
      ],
      "text/plain": [
       "             City Country  Latitude  Longitude  Max Temperature  Cloudiness  \\\n",
       "0            Lebu      CL  -37.6167   -73.6500           291.41          34   \n",
       "1          Laguna      US   38.4210  -121.4238           289.06           0   \n",
       "2        Goderich      CA   43.7501   -81.7165           272.61         100   \n",
       "3       Maniitsoq      GL   65.4167   -52.9000           256.35         100   \n",
       "4        Klaksvík      FO   62.2266    -6.5890           278.66         100   \n",
       "..            ...     ...       ...        ...              ...         ...   \n",
       "502        Wajima      JP   37.4000   136.9000           277.86         100   \n",
       "503        Akdepe      TM   42.0551    59.3788           274.20           1   \n",
       "504  Kruisfontein      ZA  -34.0033    24.7314           294.20         100   \n",
       "505          Okha      RU   53.5739   142.9478           255.91          99   \n",
       "506  Fort Frances      CA   48.5999   -93.4003           253.74          75   \n",
       "\n",
       "     Wind Speed  Humidity        Date  \n",
       "0          4.77        77  1643832436  \n",
       "1          5.36        29  1643832756  \n",
       "2          7.93        96  1643832357  \n",
       "3          8.12        82  1643832954  \n",
       "4          3.43        82  1643832432  \n",
       "..          ...       ...         ...  \n",
       "502        9.64        65  1643833685  \n",
       "503        4.32        81  1643833685  \n",
       "504        3.67        91  1643833686  \n",
       "505       11.64        91  1643833686  \n",
       "506        2.68        62  1643833686  \n",
       "\n",
       "[507 rows x 9 columns]"
      ]
     },
     "execution_count": 31,
     "metadata": {},
     "output_type": "execute_result"
    }
   ],
   "source": [
    "weather_df=pd.DataFrame(weather_dict)\n",
    "\n",
    "weather_df.to_csv(output_data_file)\n",
    "weather_df\n"
   ]
  },
  {
   "cell_type": "code",
   "execution_count": 36,
   "metadata": {},
   "outputs": [
    {
     "name": "stdout",
     "output_type": "stream",
     "text": [
      "No rows with Humidity over 100\n"
     ]
    }
   ],
   "source": [
    "#Determine if humidity outliers need to be removed\n",
    "\n",
    "try:\n",
    "    weather_df.loc(weather_df[weather_df['Humidity']]<=100)\n",
    "except:\n",
    "    print(\"No rows with Humidity over 100\")"
   ]
  },
  {
   "cell_type": "markdown",
   "metadata": {},
   "source": [
    "## Inspect the data and remove the cities where the humidity > 100%.\n",
    "----\n",
    "Skip this step if there are no cities that have humidity > 100%. "
   ]
  },
  {
   "cell_type": "code",
   "execution_count": 37,
   "metadata": {},
   "outputs": [
    {
     "data": {
      "text/html": [
       "<div>\n",
       "<style scoped>\n",
       "    .dataframe tbody tr th:only-of-type {\n",
       "        vertical-align: middle;\n",
       "    }\n",
       "\n",
       "    .dataframe tbody tr th {\n",
       "        vertical-align: top;\n",
       "    }\n",
       "\n",
       "    .dataframe thead th {\n",
       "        text-align: right;\n",
       "    }\n",
       "</style>\n",
       "<table border=\"1\" class=\"dataframe\">\n",
       "  <thead>\n",
       "    <tr style=\"text-align: right;\">\n",
       "      <th></th>\n",
       "      <th>Latitude</th>\n",
       "      <th>Longitude</th>\n",
       "      <th>Max Temperature</th>\n",
       "      <th>Cloudiness</th>\n",
       "      <th>Wind Speed</th>\n",
       "      <th>Humidity</th>\n",
       "      <th>Date</th>\n",
       "    </tr>\n",
       "  </thead>\n",
       "  <tbody>\n",
       "    <tr>\n",
       "      <th>count</th>\n",
       "      <td>507.000000</td>\n",
       "      <td>507.000000</td>\n",
       "      <td>507.000000</td>\n",
       "      <td>507.000000</td>\n",
       "      <td>507.000000</td>\n",
       "      <td>507.000000</td>\n",
       "      <td>5.070000e+02</td>\n",
       "    </tr>\n",
       "    <tr>\n",
       "      <th>mean</th>\n",
       "      <td>21.253803</td>\n",
       "      <td>18.081841</td>\n",
       "      <td>282.552426</td>\n",
       "      <td>62.108481</td>\n",
       "      <td>3.786469</td>\n",
       "      <td>73.230769</td>\n",
       "      <td>1.643833e+09</td>\n",
       "    </tr>\n",
       "    <tr>\n",
       "      <th>std</th>\n",
       "      <td>33.208477</td>\n",
       "      <td>92.291569</td>\n",
       "      <td>18.250733</td>\n",
       "      <td>40.431639</td>\n",
       "      <td>2.769875</td>\n",
       "      <td>22.300499</td>\n",
       "      <td>2.958890e+02</td>\n",
       "    </tr>\n",
       "    <tr>\n",
       "      <th>min</th>\n",
       "      <td>-54.800000</td>\n",
       "      <td>-175.200000</td>\n",
       "      <td>234.310000</td>\n",
       "      <td>0.000000</td>\n",
       "      <td>0.000000</td>\n",
       "      <td>7.000000</td>\n",
       "      <td>1.643832e+09</td>\n",
       "    </tr>\n",
       "    <tr>\n",
       "      <th>25%</th>\n",
       "      <td>-3.908550</td>\n",
       "      <td>-65.407400</td>\n",
       "      <td>268.875000</td>\n",
       "      <td>20.000000</td>\n",
       "      <td>1.790000</td>\n",
       "      <td>61.000000</td>\n",
       "      <td>1.643833e+09</td>\n",
       "    </tr>\n",
       "    <tr>\n",
       "      <th>50%</th>\n",
       "      <td>25.286700</td>\n",
       "      <td>23.371600</td>\n",
       "      <td>288.930000</td>\n",
       "      <td>75.000000</td>\n",
       "      <td>3.090000</td>\n",
       "      <td>78.000000</td>\n",
       "      <td>1.643833e+09</td>\n",
       "    </tr>\n",
       "    <tr>\n",
       "      <th>75%</th>\n",
       "      <td>51.106600</td>\n",
       "      <td>102.382750</td>\n",
       "      <td>297.995000</td>\n",
       "      <td>100.000000</td>\n",
       "      <td>5.140000</td>\n",
       "      <td>91.000000</td>\n",
       "      <td>1.643833e+09</td>\n",
       "    </tr>\n",
       "    <tr>\n",
       "      <th>max</th>\n",
       "      <td>78.218600</td>\n",
       "      <td>179.316700</td>\n",
       "      <td>313.680000</td>\n",
       "      <td>100.000000</td>\n",
       "      <td>16.980000</td>\n",
       "      <td>100.000000</td>\n",
       "      <td>1.643834e+09</td>\n",
       "    </tr>\n",
       "  </tbody>\n",
       "</table>\n",
       "</div>"
      ],
      "text/plain": [
       "         Latitude   Longitude  Max Temperature  Cloudiness  Wind Speed  \\\n",
       "count  507.000000  507.000000       507.000000  507.000000  507.000000   \n",
       "mean    21.253803   18.081841       282.552426   62.108481    3.786469   \n",
       "std     33.208477   92.291569        18.250733   40.431639    2.769875   \n",
       "min    -54.800000 -175.200000       234.310000    0.000000    0.000000   \n",
       "25%     -3.908550  -65.407400       268.875000   20.000000    1.790000   \n",
       "50%     25.286700   23.371600       288.930000   75.000000    3.090000   \n",
       "75%     51.106600  102.382750       297.995000  100.000000    5.140000   \n",
       "max     78.218600  179.316700       313.680000  100.000000   16.980000   \n",
       "\n",
       "         Humidity          Date  \n",
       "count  507.000000  5.070000e+02  \n",
       "mean    73.230769  1.643833e+09  \n",
       "std     22.300499  2.958890e+02  \n",
       "min      7.000000  1.643832e+09  \n",
       "25%     61.000000  1.643833e+09  \n",
       "50%     78.000000  1.643833e+09  \n",
       "75%     91.000000  1.643833e+09  \n",
       "max    100.000000  1.643834e+09  "
      ]
     },
     "execution_count": 37,
     "metadata": {},
     "output_type": "execute_result"
    }
   ],
   "source": [
    "#Create summary chart\n",
    "weather_df.describe()"
   ]
  },
  {
   "cell_type": "markdown",
   "metadata": {},
   "source": [
    "## Plotting the Data\n",
    "* Use proper labeling of the plots using plot titles (including date of analysis) and axes labels.\n",
    "* Save the plotted figures as .pngs."
   ]
  },
  {
   "cell_type": "markdown",
   "metadata": {},
   "source": [
    "## Latitude vs. Temperature Plot"
   ]
  },
  {
   "cell_type": "code",
   "execution_count": 46,
   "metadata": {
    "scrolled": true
   },
   "outputs": [
    {
     "name": "stdout",
     "output_type": "stream",
     "text": [
      "This shows a possible negative, curvilinear relationship between Latitude and Temperature\n"
     ]
    },
    {
     "data": {
      "image/png": "[encoded data removed]",
      "text/plain": [
       "<Figure size 432x288 with 1 Axes>"
      ]
     },
     "metadata": {
      "needs_background": "light"
     },
     "output_type": "display_data"
    }
   ],
   "source": [
    "plt.scatter(weather_df['Latitude'], weather_df['Max Temperature'])\n",
    "plt.title(\"Latitude vs. Temperature (02/02/2022)\")\n",
    "plt.xlabel(\"Latitude\")\n",
    "plt.ylabel(\"Max Temperature\")\n",
    "plt.savefig('output_data/scatter1')\n",
    "print('This shows a possible negative, curvilinear relationship between Latitude and Temperature')"
   ]
  },
  {
   "cell_type": "markdown",
   "metadata": {},
   "source": [
    "## Latitude vs. Humidity Plot"
   ]
  },
  {
   "cell_type": "code",
   "execution_count": 47,
   "metadata": {},
   "outputs": [
    {
     "name": "stdout",
     "output_type": "stream",
     "text": [
      "This plot shows how Latitude might affect humidity. At first glance, there doesn't appear to be a relationship\n"
     ]
    },
    {
     "data": {
      "image/png": "[encoded data removed]",
      "text/plain": [
       "<Figure size 432x288 with 1 Axes>"
      ]
     },
     "metadata": {
      "needs_background": "light"
     },
     "output_type": "display_data"
    }
   ],
   "source": [
    "plt.scatter(weather_df['Latitude'], weather_df['Humidity'])\n",
    "plt.title(\"Latitude vs. Humidity (02/02/2022)\")\n",
    "plt.xlabel(\"Latitude\")\n",
    "plt.ylabel(\"Humidity\")\n",
    "plt.savefig('output_data/scatter2')\n",
    "print(\"This plot shows how Latitude might affect Humidity. At first glance, there doesn't appear to be a relationship\")"
   ]
  },
  {
   "cell_type": "markdown",
   "metadata": {},
   "source": [
    "## Latitude vs. Cloudiness Plot"
   ]
  },
  {
   "cell_type": "code",
   "execution_count": 48,
   "metadata": {},
   "outputs": [
    {
     "name": "stdout",
     "output_type": "stream",
     "text": [
      "This plot shows how Latitude might affect Cloudiness. At first glance, there doesn't appear to be a relationship\n"
     ]
    },
    {
     "data": {
      "image/png": "[encoded data removed]",
      "text/plain": [
       "<Figure size 432x288 with 1 Axes>"
      ]
     },
     "metadata": {
      "needs_background": "light"
     },
     "output_type": "display_data"
    }
   ],
   "source": [
    "plt.scatter(weather_df['Latitude'], weather_df['Cloudiness'])\n",
    "plt.title(\"Latitude vs. Cloudiness (02/02/2022)\")\n",
    "plt.xlabel(\"Latitude\")\n",
    "plt.ylabel(\"Cloudiness\")\n",
    "plt.savefig('output_data/scatter3')\n",
    "print(\"This plot shows how Latitude might affect Cloudiness. At first glance, there doesn't appear to be a relationship\")"
   ]
  },
  {
   "cell_type": "markdown",
   "metadata": {},
   "source": [
    "## Latitude vs. Wind Speed Plot"
   ]
  },
  {
   "cell_type": "code",
   "execution_count": 49,
   "metadata": {},
   "outputs": [
    {
     "name": "stdout",
     "output_type": "stream",
     "text": [
      "This shows a possible positive, linear relationship between Latitude and Windspeed\n"
     ]
    },
    {
     "data": {
      "image/png": "[encoded data removed]",
      "text/plain": [
       "<Figure size 432x288 with 1 Axes>"
      ]
     },
     "metadata": {
      "needs_background": "light"
     },
     "output_type": "display_data"
    }
   ],
   "source": [
    "plt.scatter(weather_df['Latitude'], weather_df['Wind Speed'])\n",
    "plt.title(\"Latitude vs. Wind Speed (02/02/2022)\")\n",
    "plt.xlabel(\"Latitude\")\n",
    "plt.ylabel(\"Wind Speed\")\n",
    "plt.savefig('output_data/scatter4')\n",
    "print('This shows a possible positive, linear relationship between Latitude and Windspeed')"
   ]
  },
  {
   "cell_type": "markdown",
   "metadata": {},
   "source": [
    "## Linear Regression"
   ]
  },
  {
   "cell_type": "code",
   "execution_count": 51,
   "metadata": {},
   "outputs": [],
   "source": [
    "#Create new dataframes for both hemispheres\n",
    "\n",
    "north_df = weather_df.loc[weather_df['Latitude']>=0]\n",
    "south_df = weather_df.loc[weather_df['Latitude']<=0]\n"
   ]
  },
  {
   "cell_type": "markdown",
   "metadata": {},
   "source": [
    "####  Northern Hemisphere - Max Temp vs. Latitude Linear Regression"
   ]
  },
  {
   "cell_type": "code",
   "execution_count": 68,
   "metadata": {},
   "outputs": [
    {
     "name": "stdout",
     "output_type": "stream",
     "text": [
      "the p value is 5.9440786481841024e-114 and the r value is -0.8734794062637535\n"
     ]
    },
    {
     "data": {
      "image/png": "[encoded data removed]",
      "text/plain": [
       "<Figure size 432x288 with 1 Axes>"
      ]
     },
     "metadata": {
      "needs_background": "light"
     },
     "output_type": "display_data"
    }
   ],
   "source": [
    "#Generate Regression and plot\n",
    "(slope, intercept, rvalue, pvalue, stderr) = linregress(north_df['Latitude'], north_df['Max Temperature'])\n",
    "regress_values = north_df['Latitude']*slope + intercept\n",
    "line_eq = \"y = \" + str(round(slope,4)) + \"x + \" + str(round(intercept,4))\n",
    "\n",
    "plt.scatter(north_df['Latitude'],north_df['Max Temperature'])\n",
    "plt.plot(north_df['Latitude'],regress_values,\"r-\")\n",
    "plt.annotate(line_eq,xy=(42,300),fontsize=12,color=\"red\")\n",
    "plt.xlabel(\"Latitude\")\n",
    "plt.ylabel(\"Max Temperature\")\n",
    "plt.savefig('output_data/reg1')\n",
    "print(f'the p value is {pvalue} and the r value is {rvalue}')"
   ]
  },
  {
   "cell_type": "markdown",
   "metadata": {},
   "source": [
    "####  Southern Hemisphere - Max Temp vs. Latitude Linear Regression"
   ]
  },
  {
   "cell_type": "code",
   "execution_count": 69,
   "metadata": {},
   "outputs": [
    {
     "name": "stdout",
     "output_type": "stream",
     "text": [
      "the p value is 2.1870029992883318e-11 and the r value is 0.5162703086368006\n"
     ]
    },
    {
     "data": {
      "image/png": "[encoded data removed]",
      "text/plain": [
       "<Figure size 432x288 with 1 Axes>"
      ]
     },
     "metadata": {
      "needs_background": "light"
     },
     "output_type": "display_data"
    }
   ],
   "source": [
    "#Generate Regression and plot\n",
    "(slope, intercept, rvalue, pvalue, stderr) = linregress(south_df['Latitude'], south_df['Max Temperature'])\n",
    "regress_values = south_df['Latitude']*slope + intercept\n",
    "line_eq = \"y = \" + str(round(slope,4)) + \"x + \" + str(round(intercept,4))\n",
    "\n",
    "plt.scatter(south_df['Latitude'],south_df['Max Temperature'])\n",
    "plt.plot(south_df['Latitude'],regress_values,\"r-\")\n",
    "plt.annotate(line_eq,xy=(42,300),fontsize=12,color=\"red\")\n",
    "plt.xlabel(\"Latitude\")\n",
    "plt.ylabel(\"Max Temperature\")\n",
    "plt.savefig('output_data/reg2')\n",
    "print(f'the p value is {pvalue} and the r value is {rvalue}')"
   ]
  },
  {
   "cell_type": "markdown",
   "metadata": {},
   "source": [
    "####  Northern Hemisphere - Humidity (%) vs. Latitude Linear Regression"
   ]
  },
  {
   "cell_type": "code",
   "execution_count": 70,
   "metadata": {},
   "outputs": [
    {
     "name": "stdout",
     "output_type": "stream",
     "text": [
      "the p value is 6.534992016060016e-19 and the r value is 0.44501287160299335\n"
     ]
    },
    {
     "data": {
      "image/png": "[encoded data removed]",
      "text/plain": [
       "<Figure size 432x288 with 1 Axes>"
      ]
     },
     "metadata": {
      "needs_background": "light"
     },
     "output_type": "display_data"
    }
   ],
   "source": [
    "(slope, intercept, rvalue, pvalue, stderr) = linregress(north_df['Latitude'], north_df['Humidity'])\n",
    "regress_values = north_df['Latitude']*slope + intercept\n",
    "line_eq = \"y = \" + str(round(slope,4)) + \"x + \" + str(round(intercept,4))\n",
    "\n",
    "plt.scatter(north_df['Latitude'],north_df['Humidity'])\n",
    "plt.plot(north_df['Latitude'],regress_values,\"r-\")\n",
    "plt.annotate(line_eq,xy=(45,15),fontsize=12,color=\"red\")\n",
    "plt.xlabel(\"Latitude\")\n",
    "plt.ylabel(\"Humidity\")\n",
    "plt.savefig('output_data/reg3')\n",
    "print(f'the p value is {pvalue} and the r value is {rvalue}')"
   ]
  },
  {
   "cell_type": "markdown",
   "metadata": {},
   "source": [
    "####  Southern Hemisphere - Humidity (%) vs. Latitude Linear Regression"
   ]
  },
  {
   "cell_type": "code",
   "execution_count": 71,
   "metadata": {},
   "outputs": [
    {
     "name": "stdout",
     "output_type": "stream",
     "text": [
      "the p value is 0.028016850620969865 and the r value is 0.1812533071658991\n"
     ]
    },
    {
     "data": {
      "image/png": "[encoded data removed]",
      "text/plain": [
       "<Figure size 432x288 with 1 Axes>"
      ]
     },
     "metadata": {
      "needs_background": "light"
     },
     "output_type": "display_data"
    }
   ],
   "source": [
    "(slope, intercept, rvalue, pvalue, stderr) = linregress(south_df['Latitude'], south_df['Humidity'])\n",
    "regress_values = south_df['Latitude']*slope + intercept\n",
    "line_eq = \"y = \" + str(round(slope,4)) + \"x + \" + str(round(intercept,4))\n",
    "\n",
    "plt.scatter(south_df['Latitude'],south_df['Humidity'])\n",
    "plt.plot(south_df['Latitude'],regress_values,\"r-\")\n",
    "plt.annotate(line_eq,xy=(45,15),fontsize=12,color=\"red\")\n",
    "plt.xlabel(\"Latitude\")\n",
    "plt.ylabel(\"Humidity\")\n",
    "plt.savefig('output_data/reg4')\n",
    "print(f'the p value is {pvalue} and the r value is {rvalue}')"
   ]
  },
  {
   "cell_type": "markdown",
   "metadata": {},
   "source": [
    "####  Northern Hemisphere - Cloudiness (%) vs. Latitude Linear Regression"
   ]
  },
  {
   "cell_type": "code",
   "execution_count": 72,
   "metadata": {},
   "outputs": [
    {
     "name": "stdout",
     "output_type": "stream",
     "text": [
      "the p value is 1.1116850658819207e-07 and the r value is 0.2752625086621733\n"
     ]
    },
    {
     "data": {
      "image/png": "[encoded data removed]",
      "text/plain": [
       "<Figure size 432x288 with 1 Axes>"
      ]
     },
     "metadata": {
      "needs_background": "light"
     },
     "output_type": "display_data"
    }
   ],
   "source": [
    "(slope, intercept, rvalue, pvalue, stderr) = linregress(north_df['Latitude'], north_df['Cloudiness'])\n",
    "regress_values = north_df['Latitude']*slope + intercept\n",
    "line_eq = \"y = \" + str(round(slope,4)) + \"x + \" + str(round(intercept,4))\n",
    "\n",
    "plt.scatter(north_df['Latitude'],north_df['Cloudiness'])\n",
    "plt.plot(north_df['Latitude'],regress_values,\"r-\")\n",
    "plt.annotate(line_eq,xy=(45,15),fontsize=12,color=\"red\")\n",
    "plt.xlabel(\"Latitude\")\n",
    "plt.ylabel(\"Cloudiness\")\n",
    "plt.savefig('output_data/reg5')\n",
    "print(f'the p value is {pvalue} and the r value is {rvalue}')"
   ]
  },
  {
   "cell_type": "markdown",
   "metadata": {},
   "source": [
    "####  Southern Hemisphere - Cloudiness (%) vs. Latitude Linear Regression"
   ]
  },
  {
   "cell_type": "code",
   "execution_count": 73,
   "metadata": {},
   "outputs": [
    {
     "name": "stdout",
     "output_type": "stream",
     "text": [
      "the p value is 0.09685274234622605 and the r value is 0.13746242464422037\n"
     ]
    },
    {
     "data": {
      "image/png": "[encoded data removed]",
      "text/plain": [
       "<Figure size 432x288 with 1 Axes>"
      ]
     },
     "metadata": {
      "needs_background": "light"
     },
     "output_type": "display_data"
    }
   ],
   "source": [
    "(slope, intercept, rvalue, pvalue, stderr) = linregress(south_df['Latitude'], south_df['Cloudiness'])\n",
    "regress_values = south_df['Latitude']*slope + intercept\n",
    "line_eq = \"y = \" + str(round(slope,4)) + \"x + \" + str(round(intercept,4))\n",
    "\n",
    "plt.scatter(south_df['Latitude'],south_df['Cloudiness'])\n",
    "plt.plot(south_df['Latitude'],regress_values,\"r-\")\n",
    "plt.annotate(line_eq,xy=(-50,20),fontsize=12,color=\"red\")\n",
    "plt.xlabel(\"Latitude\")\n",
    "plt.ylabel(\"Cloudiness\")\n",
    "plt.savefig('output_data/reg6')\n",
    "print(f'the p value is {pvalue} and the r value is {rvalue}')"
   ]
  },
  {
   "cell_type": "markdown",
   "metadata": {},
   "source": [
    "####  Northern Hemisphere - Wind Speed (mph) vs. Latitude Linear Regression"
   ]
  },
  {
   "cell_type": "code",
   "execution_count": 74,
   "metadata": {},
   "outputs": [
    {
     "name": "stdout",
     "output_type": "stream",
     "text": [
      "the p value is 0.9109484907620626 and the r value is -0.005915123844000994\n"
     ]
    },
    {
     "data": {
      "image/png": "[encoded data removed]",
      "text/plain": [
       "<Figure size 432x288 with 1 Axes>"
      ]
     },
     "metadata": {
      "needs_background": "light"
     },
     "output_type": "display_data"
    }
   ],
   "source": [
    "(slope, intercept, rvalue, pvalue, stderr) = linregress(north_df['Latitude'], north_df['Wind Speed'])\n",
    "regress_values = north_df['Latitude']*slope + intercept\n",
    "line_eq = \"y = \" + str(round(slope,4)) + \"x + \" + str(round(intercept,4))\n",
    "\n",
    "plt.scatter(north_df['Latitude'],north_df['Wind Speed'])\n",
    "plt.plot(north_df['Latitude'],regress_values,\"r-\")\n",
    "plt.annotate(line_eq,xy=(3,13),fontsize=12,color=\"red\")\n",
    "plt.xlabel(\"Latitude\")\n",
    "plt.ylabel(\"Wind Speed\")\n",
    "plt.savefig('output_data/reg7')\n",
    "print(f'the p value is {pvalue} and the r value is {rvalue}')"
   ]
  },
  {
   "cell_type": "markdown",
   "metadata": {},
   "source": [
    "####  Southern Hemisphere - Wind Speed (mph) vs. Latitude Linear Regression"
   ]
  },
  {
   "cell_type": "code",
   "execution_count": 75,
   "metadata": {},
   "outputs": [
    {
     "name": "stdout",
     "output_type": "stream",
     "text": [
      "the p value is 0.07784588759222834 and the r value is -0.14590274666306347\n"
     ]
    },
    {
     "data": {
      "image/png": "[encoded data removed]",
      "text/plain": [
       "<Figure size 432x288 with 1 Axes>"
      ]
     },
     "metadata": {
      "needs_background": "light"
     },
     "output_type": "display_data"
    }
   ],
   "source": [
    "(slope, intercept, rvalue, pvalue, stderr) = linregress(south_df['Latitude'], south_df['Wind Speed'])\n",
    "regress_values = south_df['Latitude']*slope + intercept\n",
    "line_eq = \"y = \" + str(round(slope,4)) + \"x + \" + str(round(intercept,4))\n",
    "\n",
    "plt.scatter(south_df['Latitude'],south_df['Wind Speed'])\n",
    "plt.plot(south_df['Latitude'],regress_values,\"r-\")\n",
    "plt.annotate(line_eq,xy=(-50,13),fontsize=12,color=\"red\")\n",
    "plt.xlabel(\"Latitude\")\n",
    "plt.ylabel(\"Wind Speed\")\n",
    "plt.savefig('output_data/reg8')\n",
    "print(f'the p value is {pvalue} and the r value is {rvalue}')"
   ]
  },
  {
   "cell_type": "code",
   "execution_count": null,
   "metadata": {},
   "outputs": [],
   "source": []
  }
 ],
 "metadata": {
  "anaconda-cloud": {},
  "kernel_info": {
   "name": "python3"
  },
  "kernelspec": {
   "display_name": "Python [conda env:pythondata] *",
   "language": "python",
   "name": "conda-env-pythondata-py"
  },
  "language_info": {
   "codemirror_mode": {
    "name": "ipython",
    "version": 3
   },
   "file_extension": ".py",
   "mimetype": "text/x-python",
   "name": "python",
   "nbconvert_exporter": "python",
   "pygments_lexer": "ipython3",
   "version": "3.6.10"
  },
  "latex_envs": {
   "LaTeX_envs_menu_present": true,
   "autoclose": false,
   "autocomplete": true,
   "bibliofile": "biblio.bib",
   "cite_by": "apalike",
   "current_citInitial": 1,
   "eqLabelWithNumbers": true,
   "eqNumInitial": 1,
   "hotkeys": {
    "equation": "Ctrl-E",
    "itemize": "Ctrl-I"
   },
   "labels_anchors": false,
   "latex_user_defs": false,
   "report_style_numbering": false,
   "user_envs_cfg": false
  },
  "nteract": {
   "version": "0.12.3"
  }
 },
 "nbformat": 4,
 "nbformat_minor": 2
}
